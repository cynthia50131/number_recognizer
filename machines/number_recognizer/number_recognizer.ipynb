{
 "cells": [
  {
   "cell_type": "code",
   "execution_count": 181,
   "metadata": {
    "collapsed": true
   },
   "outputs": [],
   "source": [
    "%matplotlib inline"
   ]
  },
  {
   "cell_type": "markdown",
   "metadata": {},
   "source": [
    "## Load the Data\n",
    "\n",
    "scikit-learnには、最初から手書きの数字を認識するための学習データ(手書き数字の画像データと、その画像の数字が0～9の何れであるかという答えのセット)が搭載されているため、それを利用します。"
   ]
  },
  {
   "cell_type": "code",
   "execution_count": 4,
   "metadata": {
    "collapsed": false
   },
   "outputs": [
    {
     "name": "stdout",
     "output_type": "stream",
     "text": [
      "(1797L, 64L)\n"
     ]
    }
   ],
   "source": [
    "def load_data():\n",
    "    from sklearn import datasets\n",
    "    dataset = datasets.load_digits()\n",
    "    return dataset\n",
    "\n",
    "digits = load_data()\n",
    "print(digits.data.shape)"
   ]
  },
  {
   "cell_type": "code",
   "execution_count": 5,
   "metadata": {
    "collapsed": false
   },
   "outputs": [
    {
     "name": "stdout",
     "output_type": "stream",
     "text": [
      "(1797L,)\n"
     ]
    }
   ],
   "source": [
    "print(digits.target.shape)"
   ]
  },
  {
   "cell_type": "code",
   "execution_count": 6,
   "metadata": {
    "collapsed": false
   },
   "outputs": [],
   "source": [
    "import numpy as np\n",
    "data2=np.loadtxt('D:/number_recognizer/test.txt')\n",
    "target2=np.loadtxt('D:/number_recognizer/target.txt')"
   ]
  },
  {
   "cell_type": "code",
   "execution_count": 7,
   "metadata": {
    "collapsed": false,
    "scrolled": true
   },
   "outputs": [
    {
     "name": "stdout",
     "output_type": "stream",
     "text": [
      "(1121L, 64L)\n",
      "(1121L,)\n"
     ]
    }
   ],
   "source": [
    "print(data2.shape)\n",
    "print(target2.shape)"
   ]
  },
  {
   "cell_type": "markdown",
   "metadata": {},
   "source": [
    "`1797`は行数、`64`は次元数です。手書き文字の画像データが8×8のサイズであるため、その中のピクセル情報は64となります(今回値はグレースケールですが、RGBの場合3倍になります)。"
   ]
  },
  {
   "cell_type": "code",
   "execution_count": 8,
   "metadata": {
    "collapsed": false
   },
   "outputs": [],
   "source": [
    "def show_image(image):\n",
    "    import matplotlib.pyplot as plt\n",
    "\n",
    "    plt.figure(1, figsize=(3, 3))\n",
    "    plt.imshow(image, cmap=plt.cm.gray_r, interpolation='nearest')\n",
    "    plt.show()\n",
    "\n",
    "show_image(digits.images[0])"
   ]
  },
  {
   "cell_type": "markdown",
   "metadata": {},
   "source": [
    "## Create the Model\n",
    "\n",
    "今回扱うのは画像の分類問題になります。そこで、シンプルな線形分類機であるSGDClassifierを利用します。"
   ]
  },
  {
   "cell_type": "code",
   "execution_count": 9,
   "metadata": {
    "collapsed": true
   },
   "outputs": [],
   "source": [
    "def make_model():\n",
    "    from sklearn.linear_model import SGDClassifier    \n",
    "    clf = SGDClassifier(alpha=0.0001, fit_intercept=True, n_iter=200)\n",
    "    return clf\n",
    "    \n",
    "classifier = make_model()"
   ]
  },
  {
   "cell_type": "markdown",
   "metadata": {},
   "source": [
    "## Training the Model"
   ]
  },
  {
   "cell_type": "markdown",
   "metadata": {},
   "source": [
    "データとモデルがそろったため、学習させてみます。"
   ]
  },
  {
   "cell_type": "code",
   "execution_count": 10,
   "metadata": {
    "collapsed": false
   },
   "outputs": [
    {
     "data": {
      "text/plain": [
       "SGDClassifier(alpha=0.0001, average=False, class_weight=None, epsilon=0.1,\n",
       "       eta0=0.0, fit_intercept=True, l1_ratio=0.15,\n",
       "       learning_rate='optimal', loss='hinge', n_iter=200, n_jobs=1,\n",
       "       penalty='l2', power_t=0.5, random_state=None, shuffle=True,\n",
       "       verbose=0, warm_start=False)"
      ]
     },
     "execution_count": 10,
     "metadata": {},
     "output_type": "execute_result"
    }
   ],
   "source": [
    "classifier.fit(digits.data, digits.target)"
   ]
  },
  {
   "cell_type": "markdown",
   "metadata": {},
   "source": [
    "## Evaluate the Model"
   ]
  },
  {
   "cell_type": "markdown",
   "metadata": {},
   "source": [
    "学習させたモデルの精度を計測してみます。`predict`で予測させることができるので、これで予測させた値と実際の答え(`digits.target`)を比べてみます。"
   ]
  },
  {
   "cell_type": "code",
   "execution_count": 11,
   "metadata": {
    "collapsed": false
   },
   "outputs": [
    {
     "name": "stdout",
     "output_type": "stream",
     "text": [
      "0.983861992209\n"
     ]
    }
   ],
   "source": [
    "def calculate_accuracy(model, dataset):\n",
    "    from sklearn import metrics\n",
    "\n",
    "    predicted = model.predict(dataset.data)\n",
    "    score = metrics.accuracy_score(dataset.target, predicted)\n",
    "    return score\n",
    "\n",
    "print(calculate_accuracy(classifier, digits))"
   ]
  },
  {
   "cell_type": "markdown",
   "metadata": {},
   "source": [
    "## Store the Model"
   ]
  },
  {
   "cell_type": "markdown",
   "metadata": {},
   "source": [
    "最後に、学習させたモデルを保存します。アプリケーション側で、その結果を確認してみてください。"
   ]
  },
  {
   "cell_type": "code",
   "execution_count": 12,
   "metadata": {
    "collapsed": false
   },
   "outputs": [
    {
     "data": {
      "text/plain": [
       "['./machine.pkl',\n",
       " './machine.pkl_01.npy',\n",
       " './machine.pkl_02.npy',\n",
       " './machine.pkl_03.npy',\n",
       " './machine.pkl_04.npy']"
      ]
     },
     "execution_count": 12,
     "metadata": {},
     "output_type": "execute_result"
    }
   ],
   "source": [
    "from sklearn.externals import joblib\n",
    "\n",
    "joblib.dump(classifier, \"./machine.pkl\") "
   ]
  },
  {
   "cell_type": "code",
   "execution_count": 13,
   "metadata": {
    "collapsed": false
   },
   "outputs": [
    {
     "name": "stdout",
     "output_type": "stream",
     "text": [
      "[  0.           0.           0.           0.           0.           0.           0.\n",
      "   0.           0.           0.           0.           0.           0.           0.\n",
      "   0.           0.           0.           0.          14.          15.96871942\n",
      "  15.09966887   0.           0.           0.           0.           0.           0.\n",
      "   0.           0.          15.96871942   0.           0.           0.           0.\n",
      "  15.96871942   0.           0.          15.96871942   0.           0.           0.\n",
      "   0.          15.96871942   0.          15.96871942   0.           0.           0.\n",
      "   0.           0.           0.           0.           0.           0.           0.\n",
      "   0.           0.           0.           0.           0.           0.           0.\n",
      "   0.           0.        ]\n",
      "Classification report for classifier SVC(C=1.0, cache_size=200, class_weight=None, coef0=0.0, degree=3,\n",
      "  gamma=0.0013, kernel='rbf', max_iter=-1, probability=False,\n",
      "  random_state=None, shrinking=True, tol=0.001, verbose=False):\n",
      "             precision    recall  f1-score   support\n",
      "\n",
      "          0       0.46      0.38      0.42        63\n",
      "          1       0.57      0.89      0.69        37\n",
      "          2       0.52      0.61      0.56        67\n",
      "          3       0.40      0.46      0.43        59\n",
      "          4       0.42      0.30      0.35        57\n",
      "          5       0.53      0.32      0.40        56\n",
      "          6       0.44      0.52      0.47        62\n",
      "          7       0.45      0.50      0.47        50\n",
      "          8       0.56      0.50      0.53        62\n",
      "          9       0.46      0.44      0.45        48\n",
      "\n",
      "avg / total       0.48      0.48      0.47       561\n",
      "\n",
      "\n",
      "Confusion matrix:\n",
      "[[24  2  9  9  1  2  5  4  7  0]\n",
      " [ 0 33  0  1  0  1  0  2  0  0]\n",
      " [ 7  4 41  7  1  1  3  2  0  1]\n",
      " [ 3  2  8 27  2  4  4  1  4  4]\n",
      " [ 5  1  4  2 17  1 11  6  3  7]\n",
      " [ 0  0  6 11  5 18  7  4  4  1]\n",
      " [ 1 12  6  2  3  1 32  1  4  0]\n",
      " [ 5  3  1  0  0  3  3 25  1  9]\n",
      " [ 5  0  4  6  3  2  7  1 31  3]\n",
      " [ 2  1  0  3  8  1  1 10  1 21]]\n"
     ]
    },
    {
     "data": {
      "image/png": "[encoded data removed]",
      "text/plain": [
       "<matplotlib.figure.Figure at 0x1f7a9518>"
      ]
     },
     "metadata": {},
     "output_type": "display_data"
    }
   ],
   "source": [
    "%matplotlib inline\n",
    "import matplotlib.pyplot as plt\n",
    "from sklearn.linear_model import SGDClassifier\n",
    "\n",
    "from sklearn import datasets, svm, metrics\n",
    "\n",
    "\n",
    "#digits = datasets.load_digits()\n",
    "\n",
    "print (data2[0])\n",
    "\n",
    "images_and_labels = list(zip(data2, target2))\n",
    "for index, (image, label) in enumerate(images_and_labels[:4]):\n",
    "    plt.subplot(2, 4, index + 1)\n",
    "    plt.axis('off')\n",
    "    image = np.reshape(image,(8,8))\n",
    "    plt.imshow(image, cmap=plt.cm.gray_r, interpolation='nearest')\n",
    "    plt.title('Training: %i' % label)\n",
    "   \n",
    "\n",
    "#n_samples = len(digits.images)\n",
    "\n",
    "target2 = target2.astype(int)\n",
    "#data = digits.images.reshape((n_samples, -1))\n",
    "data = data2\n",
    "#data = data2[:,np.nonzero(rfe.ranking_ < 10)[0]]\n",
    "n_samples = len(target2)\n",
    "\n",
    "\n",
    "#classifier = SGDClassifier(alpha=0.0001, fit_intercept=True, n_iter=200)\n",
    "classifier = svm.SVC(gamma=0.0013)\n",
    "\n",
    "\n",
    "#classifier.fit(data[:n_samples / 2], digits.target[:n_samples / 2])\n",
    "classifier.fit(data[:n_samples / 2], target2[:n_samples / 2])\n",
    "\n",
    "\n",
    "#expected = digits.target[n_samples / 2:]\n",
    "expected = target2[n_samples / 2:]\n",
    "predicted = classifier.predict(data[n_samples / 2:])\n",
    "\n",
    "print(\"Classification report for classifier %s:\\n%s\\n\"\n",
    "    % (classifier, metrics.classification_report(expected, predicted)))\n",
    "print(\"Confusion matrix:\\n%s\"\n",
    "    % metrics.confusion_matrix(expected, predicted))\n",
    "\n",
    "\n",
    "images_and_predictions = list(zip(data2[n_samples / 2:], predicted))\n",
    "\n",
    "\n",
    "for index, (image, prediction) in enumerate(images_and_predictions[:4]):\n",
    "    plt.subplot(2, 4, index + 5)\n",
    "    plt.axis('off')\n",
    "    image = np.reshape(image,(8,8))\n",
    "    plt.imshow(image, cmap=plt.cm.gray_r, interpolation='nearest')\n",
    "    plt.title('Prediction: %i' % prediction)\n",
    "\n",
    "plt.show()\n",
    "\n",
    "\n"
   ]
  },
  {
   "cell_type": "code",
   "execution_count": 14,
   "metadata": {
    "collapsed": false
   },
   "outputs": [
    {
     "data": {
      "text/plain": [
       "(1121L, 64L)"
      ]
     },
     "execution_count": 14,
     "metadata": {},
     "output_type": "execute_result"
    }
   ],
   "source": [
    "data.shape"
   ]
  },
  {
   "cell_type": "code",
   "execution_count": 15,
   "metadata": {
    "collapsed": false
   },
   "outputs": [
    {
     "data": {
      "text/plain": [
       "['./machine2.pkl',\n",
       " './machine2.pkl_01.npy',\n",
       " './machine2.pkl_02.npy',\n",
       " './machine2.pkl_03.npy',\n",
       " './machine2.pkl_04.npy',\n",
       " './machine2.pkl_05.npy',\n",
       " './machine2.pkl_06.npy',\n",
       " './machine2.pkl_07.npy',\n",
       " './machine2.pkl_08.npy',\n",
       " './machine2.pkl_09.npy',\n",
       " './machine2.pkl_10.npy',\n",
       " './machine2.pkl_11.npy']"
      ]
     },
     "execution_count": 15,
     "metadata": {},
     "output_type": "execute_result"
    }
   ],
   "source": [
    "from sklearn.externals import joblib\n",
    "\n",
    "joblib.dump(classifier, \"./machine2.pkl\") "
   ]
  },
  {
   "cell_type": "code",
   "execution_count": 179,
   "metadata": {
    "collapsed": false
   },
   "outputs": [
    {
     "name": "stdout",
     "output_type": "stream",
     "text": [
      "864\n",
      "[0 1 2 ..., 8 9 8]\n"
     ]
    },
    {
     "data": {
      "text/plain": [
       "864"
      ]
     },
     "execution_count": 179,
     "metadata": {},
     "output_type": "execute_result"
    }
   ],
   "source": [
    "print(n_samples)\n",
    "print(digits.target)\n",
    "len(target2)"
   ]
  },
  {
   "cell_type": "code",
   "execution_count": 16,
   "metadata": {
    "collapsed": false
   },
   "outputs": [
    {
     "name": "stderr",
     "output_type": "stream",
     "text": [
      "D:\\Anaconda2\\lib\\site-packages\\matplotlib\\collections.py:590: FutureWarning: elementwise comparison failed; returning scalar instead, but in the future will perform elementwise comparison\n",
      "  if self._edgecolors == str('face'):\n"
     ]
    },
    {
     "data": {
      "image/png": "[encoded data removed]",
      "text/plain": [
       "<matplotlib.figure.Figure at 0x1c06f908>"
      ]
     },
     "metadata": {},
     "output_type": "display_data"
    }
   ],
   "source": [
    "from sklearn.svm import SVC\n",
    "from sklearn.datasets import load_digits\n",
    "from sklearn.feature_selection import RFE\n",
    "import matplotlib.pyplot as plt\n",
    "\n",
    "# Load the digits dataset\n",
    "\n",
    "X = data2[:n_samples / 2]\n",
    "y = target2[:n_samples / 2]\n",
    "\n",
    "\n",
    "# Create the RFE object and rank each pixel\n",
    "svc = SVC(kernel=\"linear\", C=1)\n",
    "rfe = RFE(estimator=svc, step=1)\n",
    "rfe.fit(X, y)\n",
    "ranking = rfe.ranking_.reshape(digits.images[0].shape)\n",
    "\n",
    "\n",
    "# Plot pixel ranking\n",
    "plt.matshow(ranking)\n",
    "plt.colorbar()\n",
    "plt.title(\"Ranking of pixels with RFE\")\n",
    "plt.show()\n",
    "\n"
   ]
  },
  {
   "cell_type": "code",
   "execution_count": 206,
   "metadata": {
    "collapsed": false
   },
   "outputs": [
    {
     "data": {
      "text/plain": [
       "array([ 3,  4,  5,  9, 10, 11, 12, 13, 14, 17, 18, 19, 20, 21, 22, 25, 26,\n",
       "       27, 28, 29, 30, 33, 34, 35, 36, 37, 38, 41, 42, 43, 44, 45, 46, 47,\n",
       "       50, 51, 52, 53, 54, 55, 58, 59, 60, 61, 62], dtype=int64)"
      ]
     },
     "execution_count": 206,
     "metadata": {},
     "output_type": "execute_result"
    }
   ],
   "source": [
    "np.nonzero(rfe.ranking_ < 15)[0] "
   ]
  },
  {
   "cell_type": "code",
   "execution_count": 207,
   "metadata": {
    "collapsed": false
   },
   "outputs": [
    {
     "data": {
      "text/plain": [
       "(432L, 45L)"
      ]
     },
     "execution_count": 207,
     "metadata": {},
     "output_type": "execute_result"
    }
   ],
   "source": [
    "X[:,np.nonzero(rfe.ranking_ < 15)[0]].shape"
   ]
  },
  {
   "cell_type": "code",
   "execution_count": 208,
   "metadata": {
    "collapsed": false
   },
   "outputs": [
    {
     "data": {
      "text/plain": [
       "array([33, 32, 16,  1, 14, 13, 21, 18, 19,  1,  1,  1,  1,  1, 10, 20, 23,\n",
       "        7,  1,  1,  1,  1,  1, 27, 25,  3,  1,  2,  1,  1,  6, 29, 17,  1,\n",
       "        1,  1,  1,  1,  5, 15, 22,  1,  1,  1,  1,  1,  1, 12, 24, 26,  1,\n",
       "        1,  1,  1,  1, 11, 28, 30,  9,  1,  1,  8,  4, 31])"
      ]
     },
     "execution_count": 208,
     "metadata": {},
     "output_type": "execute_result"
    }
   ],
   "source": [
    "rfe.ranking_ "
   ]
  },
  {
   "cell_type": "code",
   "execution_count": 218,
   "metadata": {
    "collapsed": false
   },
   "outputs": [
    {
     "name": "stdout",
     "output_type": "stream",
     "text": [
      "<function reshape at 0x0000000003F31D68>\n"
     ]
    }
   ],
   "source": []
  },
  {
   "cell_type": "code",
   "execution_count": 245,
   "metadata": {
    "collapsed": false
   },
   "outputs": [
    {
     "name": "stdout",
     "output_type": "stream",
     "text": [
      "Classification report for classifier RFE(estimator=SVC(C=1, cache_size=200, class_weight=None, coef0=0.0, degree=3, gamma=0.0,\n",
      "  kernel='linear', max_iter=-1, probability=False, random_state=None,\n",
      "  shrinking=True, tol=0.001, verbose=False),\n",
      "  estimator_params=None, n_features_to_select=None, step=1, verbose=0):\n",
      "             precision    recall  f1-score   support\n",
      "\n",
      "          0       0.00      0.00      0.00         3\n",
      "          1       0.40      0.67      0.50         3\n",
      "          2       0.33      0.33      0.33         3\n",
      "          3       0.33      0.33      0.33         3\n",
      "          4       0.00      0.00      0.00         3\n",
      "          5       0.29      0.67      0.40         3\n",
      "          6       0.00      0.00      0.00         3\n",
      "          7       0.00      0.00      0.00         3\n",
      "          8       0.00      0.00      0.00         3\n",
      "          9       0.67      0.67      0.67         3\n",
      "\n",
      "avg / total       0.20      0.27      0.22        30\n",
      "\n",
      "\n",
      "Confusion matrix:\n",
      "[[0 0 1 0 0 1 0 1 0 0]\n",
      " [1 2 0 0 0 0 0 0 0 0]\n",
      " [1 0 1 0 1 0 0 0 0 0]\n",
      " [0 0 1 1 1 0 0 0 0 0]\n",
      " [1 0 0 0 0 1 0 0 0 1]\n",
      " [0 1 0 0 0 2 0 0 0 0]\n",
      " [0 0 0 0 1 2 0 0 0 0]\n",
      " [1 0 0 2 0 0 0 0 0 0]\n",
      " [0 1 0 0 1 1 0 0 0 0]\n",
      " [0 1 0 0 0 0 0 0 0 2]]\n"
     ]
    }
   ],
   "source": [
    "expected = target2[n_samples / 2:]\n",
    "predicted = rfe.predict(data2[n_samples / 2:])\n",
    "\n",
    "\n",
    "print(\"Classification report for classifier %s:\\n%s\\n\"\n",
    "   % (rfe, metrics.classification_report(expected, predicted)))\n",
    "print(\"Confusion matrix:\\n%s\"\n",
    "    % metrics.confusion_matrix(expected, predicted))\n",
    "\n"
   ]
  },
  {
   "cell_type": "raw",
   "metadata": {},
   "source": [
    "rfe.n_features_"
   ]
  },
  {
   "cell_type": "code",
   "execution_count": 246,
   "metadata": {
    "collapsed": false
   },
   "outputs": [
    {
     "name": "stdout",
     "output_type": "stream",
     "text": [
      "Optimal number of features : 21\n"
     ]
    },
    {
     "data": {
      "image/png": "[encoded data removed]",
      "text/plain": [
       "<matplotlib.figure.Figure at 0x1f58ae48>"
      ]
     },
     "metadata": {},
     "output_type": "display_data"
    }
   ],
   "source": [
    "import matplotlib.pyplot as plt\n",
    "from sklearn.svm import SVC\n",
    "from sklearn.cross_validation import StratifiedKFold\n",
    "from sklearn.feature_selection import RFECV\n",
    "from sklearn.datasets import make_classification\n",
    "\n",
    "# Build a classification task using 3 informative features\n",
    "X = data2\n",
    "y = target2\n",
    "\n",
    "# Create the RFE object and compute a cross-validated score.\n",
    "svc = SVC(kernel=\"linear\")\n",
    "# The \"accuracy\" scoring is proportional to the number of correct\n",
    "# classifications\n",
    "rfecv = RFECV(estimator=svc, step=1, cv=StratifiedKFold(y, 2),\n",
    "              scoring='accuracy')\n",
    "rfecv.fit(X, y)\n",
    "\n",
    "print(\"Optimal number of features : %d\" % rfecv.n_features_)\n",
    "\n",
    "# Plot number of features VS. cross-validation scores\n",
    "plt.figure()\n",
    "plt.xlabel(\"Number of features selected\")\n",
    "plt.ylabel(\"Cross validation score (nb of correct classifications)\")\n",
    "plt.plot(range(1, len(rfecv.grid_scores_) + 1), rfecv.grid_scores_)\n",
    "plt.show()\n",
    "\n"
   ]
  },
  {
   "cell_type": "code",
   "execution_count": 248,
   "metadata": {
    "collapsed": false
   },
   "outputs": [
    {
     "name": "stdout",
     "output_type": "stream",
     "text": [
      "Classification report for classifier RFECV(cv=sklearn.cross_validation.StratifiedKFold(labels=[0 1 2 3 4 5 6 7 8 9 0 1 2 3 4 5 6 7 8 9 0 1 2 3 4 5 6 7 8 9 0 1 2 3 4 5 6\n",
      " 7 8 9 0 1 2 3 4 5 6 7 8 9 0 1 2 3 4 5 6 7 8 9], n_folds=2, shuffle=False, random_state=None),\n",
      "   estimator=SVC(C=1.0, cache_size=200, class_weight=None, coef0=0.0, degree=3, gamma=0.0,\n",
      "  kernel='linear', max_iter=-1, probability=False, random_state=None,\n",
      "  shrinking=True, tol=0.001, verbose=False),\n",
      "   estimator_params=None, scoring='accuracy', step=1, verbose=0):\n",
      "             precision    recall  f1-score   support\n",
      "\n",
      "          0       1.00      1.00      1.00         3\n",
      "          1       1.00      1.00      1.00         3\n",
      "          2       1.00      1.00      1.00         3\n",
      "          3       1.00      1.00      1.00         3\n",
      "          4       1.00      1.00      1.00         3\n",
      "          5       1.00      1.00      1.00         3\n",
      "          6       1.00      1.00      1.00         3\n",
      "          7       1.00      1.00      1.00         3\n",
      "          8       1.00      1.00      1.00         3\n",
      "          9       1.00      1.00      1.00         3\n",
      "\n",
      "avg / total       1.00      1.00      1.00        30\n",
      "\n",
      "\n",
      "Confusion matrix:\n",
      "[[3 0 0 0 0 0 0 0 0 0]\n",
      " [0 3 0 0 0 0 0 0 0 0]\n",
      " [0 0 3 0 0 0 0 0 0 0]\n",
      " [0 0 0 3 0 0 0 0 0 0]\n",
      " [0 0 0 0 3 0 0 0 0 0]\n",
      " [0 0 0 0 0 3 0 0 0 0]\n",
      " [0 0 0 0 0 0 3 0 0 0]\n",
      " [0 0 0 0 0 0 0 3 0 0]\n",
      " [0 0 0 0 0 0 0 0 3 0]\n",
      " [0 0 0 0 0 0 0 0 0 3]]\n"
     ]
    }
   ],
   "source": [
    "expected = target2[n_samples / 2:]\n",
    "predicted = rfecv.predict(data2[n_samples / 2:])\n",
    "\n",
    "\n",
    "print(\"Classification report for classifier %s:\\n%s\\n\"\n",
    "    % (rfecv, metrics.classification_report(expected, predicted)))\n",
    "print(\"Confusion matrix:\\n%s\"\n",
    "    % metrics.confusion_matrix(expected, predicted))"
   ]
  },
  {
   "cell_type": "code",
   "execution_count": 174,
   "metadata": {
    "collapsed": false
   },
   "outputs": [
    {
     "data": {
      "text/plain": [
       "array([2, 1, 3, 2, 1, 1, 1, 3, 0, 0, 2, 3, 0, 3, 2, 3, 3, 2, 1, 2, 0, 0, 1,\n",
       "       3, 3, 1, 0, 1, 2, 0, 3, 2, 1, 2, 2, 1, 0, 1, 1, 3, 1, 0, 0, 0, 1, 1,\n",
       "       3, 2, 3, 3, 0, 2, 3, 2, 2, 0, 1, 2, 2, 1, 3, 3, 0, 0, 1, 3, 2, 0, 3,\n",
       "       1, 0, 3, 3, 0, 0, 2, 3, 2, 2, 1, 2, 0, 3, 1, 2, 0, 2, 2, 1, 0, 1, 1,\n",
       "       2, 0, 3, 2, 1, 3, 0, 2])"
      ]
     },
     "execution_count": 174,
     "metadata": {},
     "output_type": "execute_result"
    }
   ],
   "source": [
    "from sklearn import svm\n",
    "from sklearn.datasets import samples_generator\n",
    "from sklearn.feature_selection import SelectKBest, f_regression\n",
    "from sklearn.pipeline import make_pipeline\n",
    "\n",
    "# import some data to play with\n",
    "X, y = samples_generator.make_classification(\n",
    "    n_features=20, n_informative=3, n_redundant=0, n_classes=4,\n",
    "    n_clusters_per_class=2)\n",
    "\n",
    "# ANOVA SVM-C\n",
    "# 1) anova filter, take 3 best ranked features\n",
    "anova_filter = SelectKBest(f_regression, k=3)\n",
    "# 2) svm\n",
    "clf = svm.SVC(kernel='linear')\n",
    "\n",
    "anova_svm = make_pipeline(anova_filter, clf)\n",
    "anova_svm.fit(X, y)\n",
    "anova_svm.predict(X)"
   ]
  },
  {
   "cell_type": "code",
   "execution_count": null,
   "metadata": {
    "collapsed": true
   },
   "outputs": [],
   "source": []
  },
  {
   "cell_type": "code",
   "execution_count": null,
   "metadata": {
    "collapsed": true
   },
   "outputs": [],
   "source": []
  },
  {
   "cell_type": "code",
   "execution_count": null,
   "metadata": {
    "collapsed": true
   },
   "outputs": [],
   "source": []
  }
 ],
 "metadata": {
  "kernelspec": {
   "display_name": "Python 2",
   "language": "python",
   "name": "python2"
  },
  "language_info": {
   "codemirror_mode": {
    "name": "ipython",
    "version": 2
   },
   "file_extension": ".py",
   "mimetype": "text/x-python",
   "name": "python",
   "nbconvert_exporter": "python",
   "pygments_lexer": "ipython2",
   "version": "2.7.11"
  }
 },
 "nbformat": 4,
 "nbformat_minor": 0
}
