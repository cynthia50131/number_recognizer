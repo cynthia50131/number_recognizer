{
 "cells": [
  {
   "cell_type": "code",
   "execution_count": 37,
   "metadata": {
    "collapsed": false
   },
   "outputs": [
    {
     "name": "stdout",
     "output_type": "stream",
     "text": [
      "(1212L, 64L)\n",
      "(1212L,)\n"
     ]
    }
   ],
   "source": [
    "%matplotlib inline\n",
    "import numpy as np\n",
    "\n",
    "data2=np.loadtxt('D:/number_recognizer/test15.txt')\n",
    "target2=np.loadtxt('D:/number_recognizer/target15.txt')\n",
    "\n",
    "print(data2.shape)\n",
    "print(target2.shape)"
   ]
  },
  {
   "cell_type": "code",
   "execution_count": 54,
   "metadata": {
    "collapsed": false,
    "scrolled": false
   },
   "outputs": [
    {
     "name": "stdout",
     "output_type": "stream",
     "text": [
      "0.704665915469\n"
     ]
    }
   ],
   "source": [
    "%matplotlib inline\n",
    "import matplotlib.pyplot as plt\n",
    "from sklearn.linear_model import SGDClassifier\n",
    "from sklearn.cross_validation import cross_val_score\n",
    "from sklearn.cross_validation import StratifiedKFold\n",
    "from sklearn import datasets, svm, metrics\n",
    "\n",
    "target2 = target2.astype(int)\n",
    "#data = digits.images.reshape((n_samples, -1))\n",
    "data = data2\n",
    "#data = data2[:,np.nonzero(rfe.ranking_ < 10)[0]]\n",
    "n_samples = len(target2)\n",
    "\n",
    "\n",
    "#classifier = SGDClassifier(alpha=0.0001, fit_intercept=True, n_iter=200)\n",
    "#classifier = svm.SVC(gamma=0.0013)\n",
    "classifier = svm.SVC(gamma=0.0013)\n",
    "\n",
    "\n",
    "\n",
    "accu = np.mean(cross_val_score(classifier, data2, target2, cv=StratifiedKFold(target2, 3)))\n",
    "\n",
    "#classifier.fit(data[:n_samples / 2], digits.target[:n_samples / 2])\n",
    "#classifier.fit(data[:n_samples / 3], target2[:n_samples / 3])\n",
    "\n",
    "\n",
    "print (accu)"
   ]
  },
  {
   "cell_type": "code",
   "execution_count": 52,
   "metadata": {
    "collapsed": false,
    "scrolled": false
   },
   "outputs": [
    {
     "name": "stdout",
     "output_type": "stream",
     "text": [
      "[ 0.1504065   0.14285714  0.13636364  0.20833333  0.19665272]\n",
      "0.166922667257\n",
      "[ 0.59756098  0.58367347  0.52479339  0.74583333  0.65271967]\n",
      "0.620916166407\n",
      "[ 0.6300813   0.62040816  0.5661157   0.78333333  0.66945607]\n",
      "0.653878913367\n",
      "[ 0.66666667  0.65714286  0.59917355  0.82083333  0.69456067]\n",
      "0.687675416064\n",
      "[ 0.7195122   0.67346939  0.6322314   0.84166667  0.71548117]\n",
      "0.71647216521\n",
      "[ 0.71544715  0.69795918  0.63636364  0.84583333  0.71129707]\n",
      "0.721380075794\n",
      "[ 0.72357724  0.70612245  0.64049587  0.85        0.72384937]\n",
      "0.728808984981\n",
      "[ 0.7398374   0.71428571  0.65289256  0.85416667  0.72384937]\n",
      "0.737006342739\n",
      "[ 0.75609756  0.71836735  0.64876033  0.85        0.72803347]\n",
      "0.740251742259\n",
      "[ 0.75203252  0.71428571  0.65289256  0.84166667  0.73640167]\n",
      "0.73945582738\n",
      "[ 0.75203252  0.73061224  0.65289256  0.84166667  0.73640167]\n",
      "0.742721133503\n",
      "[ 0.75203252  0.73061224  0.65289256  0.84583333  0.74058577]\n",
      "0.74439128692\n",
      "[ 0.75609756  0.74285714  0.65702479  0.85        0.73640167]\n",
      "0.748476234172\n",
      "[ 0.75203252  0.71836735  0.64876033  0.84166667  0.73640167]\n",
      "0.73944570763\n",
      "[ 0.74390244  0.71020408  0.64876033  0.8375      0.73640167]\n",
      "0.735353704975\n",
      "[ 0.74390244  0.69795918  0.64049587  0.82916667  0.73640167]\n",
      "0.729585166155\n",
      "[ 0.73577236  0.68571429  0.63636364  0.825       0.74058577]\n",
      "0.724687210772\n",
      "[ 0.73577236  0.68571429  0.6322314   0.82083333  0.74058577]\n",
      "0.723027431158\n",
      "[ 0.7398374   0.68571429  0.62396694  0.80833333  0.74058577]\n",
      "0.719687546726\n",
      "[ 0.72357724  0.67755102  0.61983471  0.8125      0.73640167]\n",
      "0.713972928113\n",
      "[ 0.7195122   0.66938776  0.61570248  0.79583333  0.73640167]\n",
      "0.707367487307\n",
      "[ 0.7195122   0.66530612  0.61157025  0.78333333  0.73640167]\n",
      "0.703224714496\n",
      "[ 0.71544715  0.65306122  0.60743802  0.76666667  0.73221757]\n",
      "0.694966127076\n",
      "[ 0.71138211  0.62857143  0.59090909  0.75416667  0.72384937]\n",
      "0.681775734471\n",
      "[ 0.70731707  0.6122449   0.58677686  0.725       0.72803347]\n",
      "0.671874460687\n",
      "[ 0.71138211  0.59183673  0.57024793  0.7125      0.71548117]\n",
      "0.660289590789\n",
      "[ 0.69105691  0.59183673  0.54958678  0.69583333  0.70711297]\n",
      "0.647085345233\n",
      "[ 0.65853659  0.56734694  0.53305785  0.675       0.69456067]\n",
      "0.625700408967\n",
      "[ 0.63414634  0.53877551  0.52479339  0.64166667  0.66527197]\n",
      "0.600930774658\n",
      "[ 0.61382114  0.52653061  0.51239669  0.6375      0.64016736]\n",
      "0.586083161738\n",
      "[ 0.59349593  0.50204082  0.50413223  0.62083333  0.62343096]\n",
      "0.568786655673\n",
      "[ 0.59349593  0.46122449  0.49586777  0.61666667  0.61506276]\n",
      "0.556463524305\n",
      "[ 0.56910569  0.45306122  0.47933884  0.6         0.58995816]\n",
      "0.538292783504\n",
      "[ 0.55284553  0.42857143  0.45454545  0.59166667  0.56903766]\n",
      "0.519333347029\n",
      "[ 0.54065041  0.4         0.44214876  0.57916667  0.54393305]\n",
      "0.501179777579\n",
      "[ 0.54065041  0.3877551   0.42975207  0.57083333  0.53138075]\n",
      "0.492074332226\n",
      "[ 0.5203252   0.37959184  0.41735537  0.54166667  0.51882845]\n",
      "0.475553506087\n",
      "[ 0.49593496  0.37142857  0.39256198  0.52916667  0.50627615]\n",
      "0.459073666309\n",
      "[ 0.49186992  0.35918367  0.38016529  0.52916667  0.49790795]\n",
      "0.451658699576\n",
      "[ 0.47154472  0.35510204  0.3677686   0.52916667  0.48117155]\n",
      "0.440950713218\n",
      "[ 0.45528455  0.34693878  0.35950413  0.50833333  0.48117155]\n",
      "0.430246468408\n",
      "[ 0.43902439  0.33061224  0.35123967  0.49583333  0.46861925]\n",
      "0.417065776952\n",
      "[ 0.43902439  0.33061224  0.33884298  0.475       0.45188285]\n",
      "0.407072491107\n",
      "[ 0.43089431  0.32653061  0.32644628  0.46666667  0.44351464]\n",
      "0.39881050264\n",
      "[ 0.40650407  0.32653061  0.31404959  0.47083333  0.43933054]\n",
      "0.391449628266\n",
      "[ 0.40243902  0.32653061  0.30165289  0.4625      0.43514644]\n",
      "0.385653794542\n",
      "[ 0.3902439   0.32244898  0.29752066  0.45        0.41841004]\n",
      "0.375724717006\n",
      "[ 0.37804878  0.31836735  0.28512397  0.42916667  0.40585774]\n",
      "0.363312900324\n",
      "[ 0.3699187   0.31836735  0.26446281  0.42916667  0.40167364]\n",
      "0.356717832575\n",
      "[ 0.36585366  0.31836735  0.26033058  0.425       0.38912134]\n",
      "0.35173458458\n",
      "[ 0.35772358  0.30204082  0.25619835  0.42083333  0.36820084]\n",
      "0.340999382165\n",
      "[ 0.34552846  0.29795918  0.25619835  0.41666667  0.36401674]\n",
      "0.336073877827\n",
      "[ 0.34552846  0.28979592  0.25619835  0.39583333  0.35983264]\n",
      "0.329437738015\n",
      "[ 0.34146341  0.28979592  0.25206612  0.3875      0.35146444]\n",
      "0.32445797677\n",
      "[ 0.33739837  0.28571429  0.24793388  0.37916667  0.34728033]\n",
      "0.319498709078\n",
      "[ 0.33333333  0.28571429  0.24380165  0.37083333  0.34728033]\n",
      "0.316192588\n",
      "[ 0.32926829  0.28979592  0.23966942  0.37083333  0.34728033]\n",
      "0.31536946012\n",
      "[ 0.32520325  0.28163265  0.23553719  0.36666667  0.34728033]\n",
      "0.311264019314\n",
      "[ 0.31707317  0.27755102  0.23140496  0.35416667  0.34309623]\n",
      "0.304658410159\n",
      "[ 0.31707317  0.27755102  0.22727273  0.35416667  0.33891213]\n",
      "0.302995143794\n",
      "[ 0.31300813  0.27346939  0.22727273  0.35416667  0.33054393]\n",
      "0.299692168966\n",
      "[ 0.30081301  0.27346939  0.2231405   0.35        0.32635983]\n",
      "0.294756544878\n",
      "[ 0.29674797  0.27346939  0.21900826  0.34166667  0.31380753]\n",
      "0.288939963549\n",
      "[ 0.30081301  0.27346939  0.21487603  0.34166667  0.31380753]\n",
      "0.288926525398\n",
      "[ 0.28861789  0.26530612  0.20247934  0.3375      0.30543933]\n",
      "0.279868535603\n",
      "[ 0.28455285  0.26122449  0.20247934  0.32916667  0.30543933]\n",
      "0.276572534276\n",
      "[ 0.2804878   0.26122449  0.19834711  0.32083333  0.30543933]\n",
      "0.273266413198\n",
      "[ 0.2804878   0.25306122  0.19834711  0.32083333  0.30125523]\n",
      "0.270796940053\n",
      "[ 0.27642276  0.24081633  0.19834711  0.31666667  0.29707113]\n",
      "0.265864798914\n",
      "[ 0.2601626   0.24081633  0.19421488  0.31666667  0.29707113]\n",
      "0.261786320113\n",
      "[ 0.25609756  0.24081633  0.19421488  0.3125      0.29288703]\n",
      "0.259303158566\n",
      "[ 0.24796748  0.23673469  0.19008264  0.3125      0.29288703]\n",
      "0.256034369494\n",
      "[ 0.24796748  0.23673469  0.18595041  0.3125      0.28870293]\n",
      "0.254371103129\n",
      "[ 0.24390244  0.23265306  0.18181818  0.3125      0.28451883]\n",
      "0.251078502104\n",
      "[ 0.2398374   0.22857143  0.18181818  0.30833333  0.28451883]\n",
      "0.24861583411\n",
      "[ 0.23577236  0.22857143  0.18181818  0.30416667  0.28451883]\n",
      "0.246969492646\n",
      "[ 0.22764228  0.2244898   0.18181818  0.30416667  0.28451883]\n",
      "0.244527149856\n",
      "[ 0.22764228  0.2244898   0.18181818  0.30416667  0.28033473]\n",
      "0.243690329772\n",
      "[ 0.22764228  0.2244898   0.18181818  0.3         0.28033473]\n",
      "0.242856996439\n",
      "[ 0.22764228  0.22040816  0.18181818  0.3         0.27615063]\n",
      "0.241203849824\n",
      "[ 0.2195122   0.21632653  0.17768595  0.3         0.27615063]\n",
      "0.237935060752\n",
      "[ 0.2195122   0.2122449   0.16942149  0.3         0.27196653]\n",
      "0.234629021576\n",
      "[ 0.2195122   0.20816327  0.16942149  0.2875      0.27196653]\n",
      "0.231312695046\n",
      "[ 0.2195122   0.20408163  0.16942149  0.2875      0.27196653]\n",
      "0.230496368515\n",
      "[ 0.21544715  0.2         0.16942149  0.28333333  0.26778243]\n",
      "0.227196880437\n",
      "[ 0.21544715  0.19591837  0.16942149  0.28333333  0.26778243]\n",
      "0.226380553907\n",
      "[ 0.21544715  0.19591837  0.16528926  0.27916667  0.26359833]\n",
      "0.223883954209\n",
      "[ 0.21138211  0.19591837  0.16528926  0.275       0.26359833]\n",
      "0.222237612745\n",
      "[ 0.21138211  0.19183673  0.16528926  0.275       0.25941423]\n",
      "0.220584466131\n",
      "[ 0.21138211  0.1877551   0.16528926  0.26666667  0.25941423]\n",
      "0.218101472934\n",
      "[ 0.21138211  0.1877551   0.16528926  0.26666667  0.25523013]\n",
      "0.21726465285\n",
      "[ 0.21138211  0.1877551   0.16528926  0.26666667  0.25104603]\n",
      "0.216427832766\n",
      "[ 0.21138211  0.1877551   0.16528926  0.2625      0.24686192]\n",
      "0.214757679349\n",
      "[ 0.21544715  0.1877551   0.16528926  0.2625      0.24686192]\n",
      "0.215570687479\n",
      "[ 0.21138211  0.18367347  0.16115702  0.2625      0.24686192]\n",
      "0.213114906538\n",
      "[ 0.21138211  0.17959184  0.15702479  0.2625      0.24686192]\n",
      "0.211472133726\n",
      "[ 0.20731707  0.17959184  0.15289256  0.25833333  0.24686192]\n",
      "0.208999345982\n",
      "[ 0.20731707  0.17959184  0.15289256  0.25833333  0.24686192]\n",
      "0.208999345982\n",
      "[ 0.20731707  0.17959184  0.15289256  0.25833333  0.24267782]\n",
      "0.208162525898\n",
      "[ 0.20731707  0.17959184  0.15289256  0.25416667  0.23849372]\n",
      "0.206492372481\n"
     ]
    }
   ],
   "source": [
    "for g in range(0,100):\n",
    "    classifier = svm.SVC(gamma = g / 10000.)\n",
    "   # print(cross_val_score(classifier, X, y, cv=StratifiedKFold(y, 5)))\n",
    "    print(np.mean(cross_val_score(classifier, X, y, cv=StratifiedKFold(y ,5))))"
   ]
  },
  {
   "cell_type": "code",
   "execution_count": 44,
   "metadata": {
    "collapsed": false
   },
   "outputs": [
    {
     "data": {
      "text/plain": [
       "SVC(C=1.0, cache_size=200, class_weight=None, coef0=0.0, degree=3,\n",
       "  gamma=0.0013, kernel='rbf', max_iter=-1, probability=False,\n",
       "  random_state=None, shrinking=True, tol=0.001, verbose=False)"
      ]
     },
     "execution_count": 44,
     "metadata": {},
     "output_type": "execute_result"
    }
   ],
   "source": [
    "%matplotlib inline\n",
    "import matplotlib.pyplot as plt\n",
    "from sklearn.linear_model import SGDClassifier\n",
    "from sklearn.cross_validation import cross_val_score\n",
    "from sklearn.cross_validation import StratifiedKFold\n",
    "from sklearn import datasets, svm, metrics\n",
    "\n",
    "target2 = target2.astype(int)\n",
    "#data = digits.images.reshape((n_samples, -1))\n",
    "data = data2\n",
    "#data = data2[:,np.nonzero(rfe.ranking_ < 10)[0]]\n",
    "n_samples = len(target2)\n",
    "\n",
    "\n",
    "#classifier = SGDClassifier(alpha=0.0001, fit_intercept=True, n_iter=200)\n",
    "classifier = svm.SVC(gamma=0.0013)\n",
    "\n",
    "\n",
    "classifier.fit(data[:n_samples / 3], target2[:n_samples / 3])\n",
    "\n",
    "\n"
   ]
  },
  {
   "cell_type": "code",
   "execution_count": 55,
   "metadata": {
    "collapsed": false
   },
   "outputs": [
    {
     "name": "stdout",
     "output_type": "stream",
     "text": [
      "Optimal number of features : 46\n"
     ]
    },
    {
     "data": {
      "image/png": "[encoded data removed]",
      "text/plain": [
       "<matplotlib.figure.Figure at 0x1c478828>"
      ]
     },
     "metadata": {},
     "output_type": "display_data"
    }
   ],
   "source": [
    "import matplotlib.pyplot as plt\n",
    "from sklearn.svm import SVC\n",
    "from sklearn.cross_validation import StratifiedKFold\n",
    "from sklearn.feature_selection import RFECV\n",
    "from sklearn.datasets import make_classification\n",
    "\n",
    "# Build a classification task using 3 informative features\n",
    "X = data2\n",
    "y = target2\n",
    "\n",
    "# Create the RFE object and compute a cross-validated score.\n",
    "svc = SVC(kernel=\"linear\")\n",
    "# The \"accuracy\" scoring is proportional to the number of correct\n",
    "# classifications\n",
    "rfecv = RFECV(estimator=svc, step=1, cv=StratifiedKFold(y, 2),\n",
    "              scoring='accuracy')\n",
    "rfecv.fit(X, y)\n",
    "\n",
    "print(\"Optimal number of features : %d\" % rfecv.n_features_)\n",
    "\n",
    "# Plot number of features VS. cross-validation scores\n",
    "plt.figure()\n",
    "plt.xlabel(\"Number of features selected\")\n",
    "plt.ylabel(\"Cross validation score (nb of correct classifications)\")\n",
    "plt.plot(range(1, len(rfecv.grid_scores_) + 1), rfecv.grid_scores_)\n",
    "plt.show()\n",
    "\n"
   ]
  },
  {
   "cell_type": "code",
   "execution_count": 56,
   "metadata": {
    "collapsed": false,
    "scrolled": false
   },
   "outputs": [
    {
     "name": "stdout",
     "output_type": "stream",
     "text": [
      "Classification report for classifier RFECV(cv=sklearn.cross_validation.StratifiedKFold(labels=[1 2 ..., 9 0], n_folds=2, shuffle=False, random_state=None),\n",
      "   estimator=SVC(C=1.0, cache_size=200, class_weight=None, coef0=0.0, degree=3, gamma=0.0,\n",
      "  kernel='linear', max_iter=-1, probability=False, random_state=None,\n",
      "  shrinking=True, tol=0.001, verbose=False),\n",
      "   estimator_params=None, scoring='accuracy', step=1, verbose=0):\n",
      "             precision    recall  f1-score   support\n",
      "\n",
      "          0       0.87      0.82      0.84        94\n",
      "          1       0.87      0.97      0.92        79\n",
      "          2       0.84      0.90      0.87        86\n",
      "          3       0.87      0.82      0.85        91\n",
      "          4       0.90      0.93      0.92        71\n",
      "          5       0.84      0.79      0.82        78\n",
      "          6       0.82      0.82      0.82        72\n",
      "          7       0.83      0.79      0.81        87\n",
      "          8       0.92      0.89      0.90        63\n",
      "          9       0.84      0.86      0.85        87\n",
      "\n",
      "avg / total       0.86      0.86      0.86       808\n",
      "\n",
      "\n",
      "Confusion matrix:\n",
      "[[77  0  3  2  4  1  3  1  2  1]\n",
      " [ 0 77  0  0  0  0  0  2  0  0]\n",
      " [ 1  2 77  3  0  0  2  0  1  0]\n",
      " [ 3  0  7 75  0  4  1  0  0  1]\n",
      " [ 2  0  0  0 66  0  1  1  0  1]\n",
      " [ 2  0  3  4  0 62  5  0  2  0]\n",
      " [ 4  1  1  1  2  4 59  0  0  0]\n",
      " [ 0  9  1  0  0  0  0 69  0  8]\n",
      " [ 0  0  0  0  0  3  1  0 56  3]\n",
      " [ 0  0  0  1  1  0  0 10  0 75]]\n"
     ]
    }
   ],
   "source": [
    "from sklearn import metrics\n",
    "expected = target2[n_samples / 3:]\n",
    "predicted = rfecv.predict(data2[n_samples / 3:])\n",
    "\n",
    "\n",
    "\n",
    "print(\"Classification report for classifier %s:\\n%s\\n\"\n",
    "    % (rfecv, metrics.classification_report(expected, predicted)))\n",
    "print(\"Confusion matrix:\\n%s\"\n",
    "    % metrics.confusion_matrix(expected, predicted))"
   ]
  },
  {
   "cell_type": "code",
   "execution_count": 48,
   "metadata": {
    "collapsed": false
   },
   "outputs": [
    {
     "data": {
      "text/plain": [
       "['./machine3.pkl',\n",
       " './machine3.pkl_01.npy',\n",
       " './machine3.pkl_02.npy',\n",
       " './machine3.pkl_03.npy',\n",
       " './machine3.pkl_04.npy',\n",
       " './machine3.pkl_05.npy',\n",
       " './machine3.pkl_06.npy',\n",
       " './machine3.pkl_07.npy',\n",
       " './machine3.pkl_08.npy',\n",
       " './machine3.pkl_09.npy',\n",
       " './machine3.pkl_10.npy',\n",
       " './machine3.pkl_11.npy']"
      ]
     },
     "execution_count": 48,
     "metadata": {},
     "output_type": "execute_result"
    }
   ],
   "source": [
    "from sklearn.externals import joblib\n",
    "\n",
    "joblib.dump(classifier, \"./machine3.pkl\") "
   ]
  },
  {
   "cell_type": "code",
   "execution_count": null,
   "metadata": {
    "collapsed": true
   },
   "outputs": [],
   "source": []
  }
 ],
 "metadata": {
  "kernelspec": {
   "display_name": "Python 2",
   "language": "python",
   "name": "python2"
  },
  "language_info": {
   "codemirror_mode": {
    "name": "ipython",
    "version": 2
   },
   "file_extension": ".py",
   "mimetype": "text/x-python",
   "name": "python",
   "nbconvert_exporter": "python",
   "pygments_lexer": "ipython2",
   "version": "2.7.11"
  }
 },
 "nbformat": 4,
 "nbformat_minor": 0
}
