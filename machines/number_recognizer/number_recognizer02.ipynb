{
 "cells": [
  {
   "cell_type": "code",
   "execution_count": 83,
   "metadata": {
    "collapsed": false
   },
   "outputs": [
    {
     "name": "stdout",
     "output_type": "stream",
     "text": [
      "(1153L, 64L)\n",
      "(1153L,)\n"
     ]
    }
   ],
   "source": [
    "%matplotlib inline\n",
    "import numpy as np\n",
    "\n",
    "data2=np.loadtxt('D:/number_recognizer/test.txt')\n",
    "target2=np.loadtxt('D:/number_recognizer/target.txt')\n",
    "\n",
    "print(data2.shape)\n",
    "print(target2.shape)"
   ]
  },
  {
   "cell_type": "code",
   "execution_count": 86,
   "metadata": {
    "collapsed": false,
    "scrolled": false
   },
   "outputs": [
    {
     "name": "stdout",
     "output_type": "stream",
     "text": [
      "0.54817840814\n"
     ]
    }
   ],
   "source": [
    "%matplotlib inline\n",
    "import matplotlib.pyplot as plt\n",
    "from sklearn.linear_model import SGDClassifier\n",
    "from sklearn.cross_validation import cross_val_score\n",
    "from sklearn.cross_validation import StratifiedKFold\n",
    "from sklearn import datasets, svm, metrics\n",
    "\n",
    "target2 = target2.astype(int)\n",
    "#data = digits.images.reshape((n_samples, -1))\n",
    "data = data2\n",
    "#data = data2[:,np.nonzero(rfe.ranking_ < 10)[0]]\n",
    "n_samples = len(target2)\n",
    "\n",
    "\n",
    "#classifier = SGDClassifier(alpha=0.0001, fit_intercept=True, n_iter=200)\n",
    "classifier = svm.SVC(gamma=0.0011)\n",
    "\n",
    "\n",
    "\n",
    "accu = np.mean(cross_val_score(classifier, data2, target2, cv=StratifiedKFold(target2, 5)))\n",
    "\n",
    "#classifier.fit(data[:n_samples / 2], digits.target[:n_samples / 2])\n",
    "#classifier.fit(data[:n_samples / 3], target2[:n_samples / 3])\n",
    "\n",
    "\n",
    "print (accu)"
   ]
  },
  {
   "cell_type": "code",
   "execution_count": 87,
   "metadata": {
    "collapsed": false
   },
   "outputs": [
    {
     "name": "stdout",
     "output_type": "stream",
     "text": [
      "Classification report for classifier SVC(C=1.0, cache_size=200, class_weight=None, coef0=0.0, degree=3,\n",
      "  gamma=0.0011, kernel='rbf', max_iter=-1, probability=False,\n",
      "  random_state=None, shrinking=True, tol=0.001, verbose=False):\n",
      "             precision    recall  f1-score   support\n",
      "\n",
      "          0       0.28      0.32      0.30        65\n",
      "          1       0.26      0.97      0.40        39\n",
      "          2       0.38      0.49      0.42        70\n",
      "          3       0.22      0.12      0.16        58\n",
      "          4       0.48      0.25      0.33        61\n",
      "          5       0.22      0.18      0.20        60\n",
      "          6       0.37      0.24      0.29        63\n",
      "          7       0.34      0.47      0.40        51\n",
      "          8       0.65      0.18      0.28        62\n",
      "          9       0.45      0.21      0.29        48\n",
      "\n",
      "avg / total       0.37      0.32      0.30       577\n",
      "\n",
      "\n",
      "Confusion matrix:\n",
      "[[21 11 13  1  1  4  8  4  2  0]\n",
      " [ 0 38  0  0  0  0  0  1  0  0]\n",
      " [ 3 24 34  1  1  1  1  5  0  0]\n",
      " [ 9 15 16  7  2  2  1  5  1  0]\n",
      " [ 8  8  4  1 15  6  6  7  1  5]\n",
      " [10 15  6 11  1 11  1  3  2  0]\n",
      " [10 20  6  2  1  8 15  1  0  0]\n",
      " [ 5 11  1  2  2  1  0 24  0  5]\n",
      " [ 6  4  5  6  2 15  9  2 11  2]\n",
      " [ 2  3  5  1  6  3  0 18  0 10]]\n"
     ]
    }
   ],
   "source": [
    "from sklearn import metrics\n",
    "expected = target2[n_samples / 2:]\n",
    "predicted = rfecv.predict(data2[n_samples / 2:])\n",
    "\n",
    "\n",
    "\n",
    "print(\"Classification report for classifier %s:\\n%s\\n\"\n",
    "    % (classifier, metrics.classification_report(expected, predicted)))\n",
    "print(\"Confusion matrix:\\n%s\"\n",
    "    % metrics.confusion_matrix(expected, predicted))"
   ]
  },
  {
   "cell_type": "code",
   "execution_count": 85,
   "metadata": {
    "collapsed": false,
    "scrolled": false
   },
   "outputs": [
    {
     "name": "stdout",
     "output_type": "stream",
     "text": [
      "[ 0.16470588  0.14566929  0.13385827  0.19920319  0.18951613]\n",
      "0.166590551538\n",
      "[ 0.62352941  0.55905512  0.55905512  0.72908367  0.63709677]\n",
      "0.621564017503\n",
      "[ 0.65882353  0.61417323  0.58267717  0.81673307  0.65322581]\n",
      "0.665126559459\n",
      "[ 0.70588235  0.64566929  0.61417323  0.82071713  0.6733871 ]\n",
      "0.691965820175\n",
      "[ 0.7254902   0.66929134  0.6496063   0.84462151  0.70564516]\n",
      "0.718930901822\n",
      "[ 0.73333333  0.67716535  0.65748031  0.84860558  0.70967742]\n",
      "0.725252399934\n",
      "[ 0.74901961  0.68503937  0.66141732  0.84860558  0.70967742]\n",
      "0.73075185956\n",
      "[ 0.75686275  0.69291339  0.66141732  0.84063745  0.71370968]\n",
      "0.733108116276\n",
      "[ 0.76078431  0.7007874   0.67322835  0.84462151  0.70967742]\n",
      "0.737819799011\n",
      "[ 0.77254902  0.71653543  0.67322835  0.84462151  0.72580645]\n",
      "0.746548152939\n",
      "[ 0.76862745  0.71653543  0.67716535  0.84462151  0.72580645]\n",
      "0.746551240788\n",
      "[ 0.76862745  0.70866142  0.68110236  0.84462151  0.72177419]\n",
      "0.7449573876\n",
      "[ 0.76470588  0.72047244  0.68503937  0.84063745  0.71774194]\n",
      "0.745719415812\n",
      "[ 0.75686275  0.70472441  0.69291339  0.84063745  0.71774194]\n",
      "0.742575985211\n",
      "[ 0.76078431  0.68897638  0.68110236  0.84063745  0.72177419]\n",
      "0.738654939526\n",
      "[ 0.76470588  0.68110236  0.67716535  0.83665339  0.72177419]\n",
      "0.736280235778\n",
      "[ 0.76078431  0.66535433  0.66141732  0.83266932  0.71774194]\n",
      "0.727593445092\n",
      "[ 0.76078431  0.65354331  0.65354331  0.8247012   0.71774194]\n",
      "0.72206281172\n",
      "[ 0.7372549   0.65354331  0.64566929  0.79681275  0.71370968]\n",
      "0.709397985362\n",
      "[ 0.7372549   0.64566929  0.64173228  0.79282869  0.71774194]\n",
      "0.707045419501\n",
      "[ 0.7372549   0.64173228  0.64173228  0.79282869  0.71774194]\n",
      "0.706258017927\n",
      "[ 0.7372549   0.63779528  0.63385827  0.78884462  0.71370968]\n",
      "0.70229254884\n",
      "[ 0.7372549   0.63385827  0.62992126  0.78087649  0.71370968]\n",
      "0.699124120193\n",
      "[ 0.72156863  0.63779528  0.62204724  0.75697211  0.71370968]\n",
      "0.690418587222\n",
      "[ 0.72156863  0.63779528  0.61417323  0.75697211  0.70967742]\n",
      "0.688037332459\n",
      "[ 0.70980392  0.62598425  0.5984252   0.74501992  0.7016129 ]\n",
      "0.676169238786\n",
      "[ 0.69411765  0.58267717  0.58267717  0.71314741  0.70967742]\n",
      "0.656459361496\n",
      "[ 0.6745098   0.5511811   0.5511811   0.69721116  0.68951613]\n",
      "0.632719858611\n",
      "[ 0.64705882  0.53543307  0.54330709  0.66135458  0.66935484]\n",
      "0.611301680279\n",
      "[ 0.63529412  0.52755906  0.53543307  0.6374502   0.66129032]\n",
      "0.599405353083\n",
      "[ 0.61176471  0.51574803  0.53149606  0.62151394  0.63306452]\n",
      "0.582717452145\n",
      "[ 0.59607843  0.49212598  0.50393701  0.61354582  0.61290323]\n",
      "0.563718093208\n",
      "[ 0.58431373  0.44094488  0.5         0.59760956  0.60080645]\n",
      "0.544734924149\n",
      "[ 0.57647059  0.42913386  0.46850394  0.57768924  0.58467742]\n",
      "0.527295009179\n",
      "[ 0.55294118  0.40944882  0.46062992  0.55776892  0.56854839]\n",
      "0.509867445606\n",
      "[ 0.54901961  0.37795276  0.44488189  0.54581673  0.5483871 ]\n",
      "0.493211616671\n",
      "[ 0.54117647  0.36220472  0.42519685  0.52988048  0.52822581]\n",
      "0.477336865986\n",
      "[ 0.51372549  0.36614173  0.40944882  0.51792829  0.52419355]\n",
      "0.466287575323\n",
      "[ 0.48627451  0.35826772  0.38188976  0.50996016  0.52016129]\n",
      "0.451310687961\n",
      "[ 0.48235294  0.3503937   0.37795276  0.49800797  0.52016129]\n",
      "0.445773731264\n",
      "[ 0.4745098   0.33464567  0.36614173  0.48207171  0.51612903]\n",
      "0.43469959018\n",
      "[ 0.45882353  0.33464567  0.34645669  0.47011952  0.49596774]\n",
      "0.421202631093\n",
      "[ 0.43529412  0.32677165  0.32283465  0.46613546  0.48790323]\n",
      "0.407787820167\n",
      "[ 0.41960784  0.32677165  0.31496063  0.45418327  0.46774194]\n",
      "0.396653065804\n",
      "[ 0.41568627  0.32677165  0.31102362  0.4501992   0.44354839]\n",
      "0.389445828077\n",
      "[ 0.40784314  0.32283465  0.30314961  0.45418327  0.43951613]\n",
      "0.385505357038\n",
      "[ 0.40392157  0.31889764  0.29133858  0.45418327  0.43951613]\n",
      "0.381571437013\n",
      "[ 0.39215686  0.30708661  0.27952756  0.4501992   0.4233871 ]\n",
      "0.370471467187\n",
      "[ 0.38431373  0.30708661  0.27559055  0.44223108  0.41532258]\n",
      "0.364908909437\n",
      "[ 0.36862745  0.30708661  0.27559055  0.43027888  0.41532258]\n",
      "0.359381216288\n",
      "[ 0.35294118  0.30314961  0.27559055  0.43027888  0.40322581]\n",
      "0.353037204973\n",
      "[ 0.35294118  0.29527559  0.26771654  0.41035857  0.40322581]\n",
      "0.345903534929\n",
      "[ 0.34901961  0.28740157  0.25984252  0.39840637  0.38709677]\n",
      "0.336353370205\n",
      "[ 0.34117647  0.28740157  0.25590551  0.39043825  0.375     ]\n",
      "0.329984360843\n",
      "[ 0.33333333  0.28740157  0.2480315   0.39043825  0.36290323]\n",
      "0.324421575404\n",
      "[ 0.32941176  0.28740157  0.24015748  0.38645418  0.35887097]\n",
      "0.320459194167\n",
      "[ 0.32941176  0.28740157  0.24015748  0.37848606  0.35887097]\n",
      "0.318865568669\n",
      "[ 0.32156863  0.28346457  0.23228346  0.36653386  0.35887097]\n",
      "0.312544298246\n",
      "[ 0.31764706  0.27952756  0.22440945  0.34661355  0.35483871]\n",
      "0.304607264438\n",
      "[ 0.30980392  0.27559055  0.22440945  0.34262948  0.35483871]\n",
      "0.301454422664\n",
      "[ 0.30980392  0.27165354  0.21653543  0.33864542  0.35080645]\n",
      "0.297488953577\n",
      "[ 0.30196078  0.26771654  0.21259843  0.33864542  0.35080645]\n",
      "0.294345522977\n",
      "[ 0.29019608  0.25984252  0.21259843  0.33864542  0.33870968]\n",
      "0.287998423812\n",
      "[ 0.28235294  0.25590551  0.20866142  0.33067729  0.3266129 ]\n",
      "0.280842012875\n",
      "[ 0.26666667  0.2519685   0.20866142  0.33067729  0.32258065]\n",
      "0.276110904785\n",
      "[ 0.26666667  0.2519685   0.20866142  0.32270916  0.32258065]\n",
      "0.274517279287\n",
      "[ 0.2627451   0.2480315   0.20866142  0.31474104  0.31451613]\n",
      "0.269739035263\n",
      "[ 0.25882353  0.24015748  0.20866142  0.31474104  0.31048387]\n",
      "0.266573466775\n",
      "[ 0.25098039  0.23622047  0.20866142  0.31075697  0.30241935]\n",
      "0.261807721774\n",
      "[ 0.24705882  0.23622047  0.2007874   0.30677291  0.30241935]\n"
     ]
    },
    {
     "ename": "KeyboardInterrupt",
     "evalue": "",
     "output_type": "error",
     "traceback": [
      "\u001b[1;31m---------------------------------------------------------------------------\u001b[0m",
      "\u001b[1;31mKeyboardInterrupt\u001b[0m                         Traceback (most recent call last)",
      "\u001b[1;32m<ipython-input-85-b77566f7e018>\u001b[0m in \u001b[0;36m<module>\u001b[1;34m()\u001b[0m\n\u001b[0;32m      2\u001b[0m     \u001b[0mclassifier\u001b[0m \u001b[1;33m=\u001b[0m \u001b[0msvm\u001b[0m\u001b[1;33m.\u001b[0m\u001b[0mSVC\u001b[0m\u001b[1;33m(\u001b[0m\u001b[0mgamma\u001b[0m \u001b[1;33m=\u001b[0m \u001b[0mg\u001b[0m \u001b[1;33m/\u001b[0m \u001b[1;36m10000.\u001b[0m\u001b[1;33m)\u001b[0m\u001b[1;33m\u001b[0m\u001b[0m\n\u001b[0;32m      3\u001b[0m     \u001b[1;32mprint\u001b[0m\u001b[1;33m(\u001b[0m\u001b[0mcross_val_score\u001b[0m\u001b[1;33m(\u001b[0m\u001b[0mclassifier\u001b[0m\u001b[1;33m,\u001b[0m \u001b[0mX\u001b[0m\u001b[1;33m,\u001b[0m \u001b[0my\u001b[0m\u001b[1;33m,\u001b[0m \u001b[0mcv\u001b[0m\u001b[1;33m=\u001b[0m\u001b[0mStratifiedKFold\u001b[0m\u001b[1;33m(\u001b[0m\u001b[0my\u001b[0m\u001b[1;33m,\u001b[0m \u001b[1;36m5\u001b[0m\u001b[1;33m)\u001b[0m\u001b[1;33m)\u001b[0m\u001b[1;33m)\u001b[0m\u001b[1;33m\u001b[0m\u001b[0m\n\u001b[1;32m----> 4\u001b[1;33m     \u001b[1;32mprint\u001b[0m\u001b[1;33m(\u001b[0m\u001b[0mnp\u001b[0m\u001b[1;33m.\u001b[0m\u001b[0mmean\u001b[0m\u001b[1;33m(\u001b[0m\u001b[0mcross_val_score\u001b[0m\u001b[1;33m(\u001b[0m\u001b[0mclassifier\u001b[0m\u001b[1;33m,\u001b[0m \u001b[0mX\u001b[0m\u001b[1;33m,\u001b[0m \u001b[0my\u001b[0m\u001b[1;33m,\u001b[0m \u001b[0mcv\u001b[0m\u001b[1;33m=\u001b[0m\u001b[0mStratifiedKFold\u001b[0m\u001b[1;33m(\u001b[0m\u001b[0my\u001b[0m \u001b[1;33m,\u001b[0m\u001b[1;36m5\u001b[0m\u001b[1;33m)\u001b[0m\u001b[1;33m)\u001b[0m\u001b[1;33m)\u001b[0m\u001b[1;33m)\u001b[0m\u001b[1;33m\u001b[0m\u001b[0m\n\u001b[0m",
      "\u001b[1;32mD:\\Anaconda2\\lib\\site-packages\\sklearn\\cross_validation.pyc\u001b[0m in \u001b[0;36mcross_val_score\u001b[1;34m(estimator, X, y, scoring, cv, n_jobs, verbose, fit_params, pre_dispatch)\u001b[0m\n\u001b[0;32m   1359\u001b[0m                                               \u001b[0mtrain\u001b[0m\u001b[1;33m,\u001b[0m \u001b[0mtest\u001b[0m\u001b[1;33m,\u001b[0m \u001b[0mverbose\u001b[0m\u001b[1;33m,\u001b[0m \u001b[0mNone\u001b[0m\u001b[1;33m,\u001b[0m\u001b[1;33m\u001b[0m\u001b[0m\n\u001b[0;32m   1360\u001b[0m                                               fit_params)\n\u001b[1;32m-> 1361\u001b[1;33m                       for train, test in cv)\n\u001b[0m\u001b[0;32m   1362\u001b[0m     \u001b[1;32mreturn\u001b[0m \u001b[0mnp\u001b[0m\u001b[1;33m.\u001b[0m\u001b[0marray\u001b[0m\u001b[1;33m(\u001b[0m\u001b[0mscores\u001b[0m\u001b[1;33m)\u001b[0m\u001b[1;33m[\u001b[0m\u001b[1;33m:\u001b[0m\u001b[1;33m,\u001b[0m \u001b[1;36m0\u001b[0m\u001b[1;33m]\u001b[0m\u001b[1;33m\u001b[0m\u001b[0m\n\u001b[0;32m   1363\u001b[0m \u001b[1;33m\u001b[0m\u001b[0m\n",
      "\u001b[1;32mD:\\Anaconda2\\lib\\site-packages\\sklearn\\externals\\joblib\\parallel.pyc\u001b[0m in \u001b[0;36m__call__\u001b[1;34m(self, iterable)\u001b[0m\n\u001b[0;32m    657\u001b[0m             \u001b[0mself\u001b[0m\u001b[1;33m.\u001b[0m\u001b[0m_iterating\u001b[0m \u001b[1;33m=\u001b[0m \u001b[0mTrue\u001b[0m\u001b[1;33m\u001b[0m\u001b[0m\n\u001b[0;32m    658\u001b[0m             \u001b[1;32mfor\u001b[0m \u001b[0mfunction\u001b[0m\u001b[1;33m,\u001b[0m \u001b[0margs\u001b[0m\u001b[1;33m,\u001b[0m \u001b[0mkwargs\u001b[0m \u001b[1;32min\u001b[0m \u001b[0miterable\u001b[0m\u001b[1;33m:\u001b[0m\u001b[1;33m\u001b[0m\u001b[0m\n\u001b[1;32m--> 659\u001b[1;33m                 \u001b[0mself\u001b[0m\u001b[1;33m.\u001b[0m\u001b[0mdispatch\u001b[0m\u001b[1;33m(\u001b[0m\u001b[0mfunction\u001b[0m\u001b[1;33m,\u001b[0m \u001b[0margs\u001b[0m\u001b[1;33m,\u001b[0m \u001b[0mkwargs\u001b[0m\u001b[1;33m)\u001b[0m\u001b[1;33m\u001b[0m\u001b[0m\n\u001b[0m\u001b[0;32m    660\u001b[0m \u001b[1;33m\u001b[0m\u001b[0m\n\u001b[0;32m    661\u001b[0m             \u001b[1;32mif\u001b[0m \u001b[0mpre_dispatch\u001b[0m \u001b[1;33m==\u001b[0m \u001b[1;34m\"all\"\u001b[0m \u001b[1;32mor\u001b[0m \u001b[0mn_jobs\u001b[0m \u001b[1;33m==\u001b[0m \u001b[1;36m1\u001b[0m\u001b[1;33m:\u001b[0m\u001b[1;33m\u001b[0m\u001b[0m\n",
      "\u001b[1;32mD:\\Anaconda2\\lib\\site-packages\\sklearn\\externals\\joblib\\parallel.pyc\u001b[0m in \u001b[0;36mdispatch\u001b[1;34m(self, func, args, kwargs)\u001b[0m\n\u001b[0;32m    404\u001b[0m         \"\"\"\n\u001b[0;32m    405\u001b[0m         \u001b[1;32mif\u001b[0m \u001b[0mself\u001b[0m\u001b[1;33m.\u001b[0m\u001b[0m_pool\u001b[0m \u001b[1;32mis\u001b[0m \u001b[0mNone\u001b[0m\u001b[1;33m:\u001b[0m\u001b[1;33m\u001b[0m\u001b[0m\n\u001b[1;32m--> 406\u001b[1;33m             \u001b[0mjob\u001b[0m \u001b[1;33m=\u001b[0m \u001b[0mImmediateApply\u001b[0m\u001b[1;33m(\u001b[0m\u001b[0mfunc\u001b[0m\u001b[1;33m,\u001b[0m \u001b[0margs\u001b[0m\u001b[1;33m,\u001b[0m \u001b[0mkwargs\u001b[0m\u001b[1;33m)\u001b[0m\u001b[1;33m\u001b[0m\u001b[0m\n\u001b[0m\u001b[0;32m    407\u001b[0m             \u001b[0mindex\u001b[0m \u001b[1;33m=\u001b[0m \u001b[0mlen\u001b[0m\u001b[1;33m(\u001b[0m\u001b[0mself\u001b[0m\u001b[1;33m.\u001b[0m\u001b[0m_jobs\u001b[0m\u001b[1;33m)\u001b[0m\u001b[1;33m\u001b[0m\u001b[0m\n\u001b[0;32m    408\u001b[0m             \u001b[1;32mif\u001b[0m \u001b[1;32mnot\u001b[0m \u001b[0m_verbosity_filter\u001b[0m\u001b[1;33m(\u001b[0m\u001b[0mindex\u001b[0m\u001b[1;33m,\u001b[0m \u001b[0mself\u001b[0m\u001b[1;33m.\u001b[0m\u001b[0mverbose\u001b[0m\u001b[1;33m)\u001b[0m\u001b[1;33m:\u001b[0m\u001b[1;33m\u001b[0m\u001b[0m\n",
      "\u001b[1;32mD:\\Anaconda2\\lib\\site-packages\\sklearn\\externals\\joblib\\parallel.pyc\u001b[0m in \u001b[0;36m__init__\u001b[1;34m(self, func, args, kwargs)\u001b[0m\n\u001b[0;32m    138\u001b[0m         \u001b[1;31m# Don't delay the application, to avoid keeping the input\u001b[0m\u001b[1;33m\u001b[0m\u001b[1;33m\u001b[0m\u001b[0m\n\u001b[0;32m    139\u001b[0m         \u001b[1;31m# arguments in memory\u001b[0m\u001b[1;33m\u001b[0m\u001b[1;33m\u001b[0m\u001b[0m\n\u001b[1;32m--> 140\u001b[1;33m         \u001b[0mself\u001b[0m\u001b[1;33m.\u001b[0m\u001b[0mresults\u001b[0m \u001b[1;33m=\u001b[0m \u001b[0mfunc\u001b[0m\u001b[1;33m(\u001b[0m\u001b[1;33m*\u001b[0m\u001b[0margs\u001b[0m\u001b[1;33m,\u001b[0m \u001b[1;33m**\u001b[0m\u001b[0mkwargs\u001b[0m\u001b[1;33m)\u001b[0m\u001b[1;33m\u001b[0m\u001b[0m\n\u001b[0m\u001b[0;32m    141\u001b[0m \u001b[1;33m\u001b[0m\u001b[0m\n\u001b[0;32m    142\u001b[0m     \u001b[1;32mdef\u001b[0m \u001b[0mget\u001b[0m\u001b[1;33m(\u001b[0m\u001b[0mself\u001b[0m\u001b[1;33m)\u001b[0m\u001b[1;33m:\u001b[0m\u001b[1;33m\u001b[0m\u001b[0m\n",
      "\u001b[1;32mD:\\Anaconda2\\lib\\site-packages\\sklearn\\cross_validation.pyc\u001b[0m in \u001b[0;36m_fit_and_score\u001b[1;34m(estimator, X, y, scorer, train, test, verbose, parameters, fit_params, return_train_score, return_parameters, error_score)\u001b[0m\n\u001b[0;32m   1476\u001b[0m \u001b[1;33m\u001b[0m\u001b[0m\n\u001b[0;32m   1477\u001b[0m     \u001b[1;32melse\u001b[0m\u001b[1;33m:\u001b[0m\u001b[1;33m\u001b[0m\u001b[0m\n\u001b[1;32m-> 1478\u001b[1;33m         \u001b[0mtest_score\u001b[0m \u001b[1;33m=\u001b[0m \u001b[0m_score\u001b[0m\u001b[1;33m(\u001b[0m\u001b[0mestimator\u001b[0m\u001b[1;33m,\u001b[0m \u001b[0mX_test\u001b[0m\u001b[1;33m,\u001b[0m \u001b[0my_test\u001b[0m\u001b[1;33m,\u001b[0m \u001b[0mscorer\u001b[0m\u001b[1;33m)\u001b[0m\u001b[1;33m\u001b[0m\u001b[0m\n\u001b[0m\u001b[0;32m   1479\u001b[0m         \u001b[1;32mif\u001b[0m \u001b[0mreturn_train_score\u001b[0m\u001b[1;33m:\u001b[0m\u001b[1;33m\u001b[0m\u001b[0m\n\u001b[0;32m   1480\u001b[0m             \u001b[0mtrain_score\u001b[0m \u001b[1;33m=\u001b[0m \u001b[0m_score\u001b[0m\u001b[1;33m(\u001b[0m\u001b[0mestimator\u001b[0m\u001b[1;33m,\u001b[0m \u001b[0mX_train\u001b[0m\u001b[1;33m,\u001b[0m \u001b[0my_train\u001b[0m\u001b[1;33m,\u001b[0m \u001b[0mscorer\u001b[0m\u001b[1;33m)\u001b[0m\u001b[1;33m\u001b[0m\u001b[0m\n",
      "\u001b[1;32mD:\\Anaconda2\\lib\\site-packages\\sklearn\\cross_validation.pyc\u001b[0m in \u001b[0;36m_score\u001b[1;34m(estimator, X_test, y_test, scorer)\u001b[0m\n\u001b[0;32m   1532\u001b[0m         \u001b[0mscore\u001b[0m \u001b[1;33m=\u001b[0m \u001b[0mscorer\u001b[0m\u001b[1;33m(\u001b[0m\u001b[0mestimator\u001b[0m\u001b[1;33m,\u001b[0m \u001b[0mX_test\u001b[0m\u001b[1;33m)\u001b[0m\u001b[1;33m\u001b[0m\u001b[0m\n\u001b[0;32m   1533\u001b[0m     \u001b[1;32melse\u001b[0m\u001b[1;33m:\u001b[0m\u001b[1;33m\u001b[0m\u001b[0m\n\u001b[1;32m-> 1534\u001b[1;33m         \u001b[0mscore\u001b[0m \u001b[1;33m=\u001b[0m \u001b[0mscorer\u001b[0m\u001b[1;33m(\u001b[0m\u001b[0mestimator\u001b[0m\u001b[1;33m,\u001b[0m \u001b[0mX_test\u001b[0m\u001b[1;33m,\u001b[0m \u001b[0my_test\u001b[0m\u001b[1;33m)\u001b[0m\u001b[1;33m\u001b[0m\u001b[0m\n\u001b[0m\u001b[0;32m   1535\u001b[0m     \u001b[1;32mif\u001b[0m \u001b[1;32mnot\u001b[0m \u001b[0misinstance\u001b[0m\u001b[1;33m(\u001b[0m\u001b[0mscore\u001b[0m\u001b[1;33m,\u001b[0m \u001b[0mnumbers\u001b[0m\u001b[1;33m.\u001b[0m\u001b[0mNumber\u001b[0m\u001b[1;33m)\u001b[0m\u001b[1;33m:\u001b[0m\u001b[1;33m\u001b[0m\u001b[0m\n\u001b[0;32m   1536\u001b[0m         raise ValueError(\"scoring must return a number, got %s (%s) instead.\"\n",
      "\u001b[1;32mD:\\Anaconda2\\lib\\site-packages\\sklearn\\metrics\\scorer.pyc\u001b[0m in \u001b[0;36m_passthrough_scorer\u001b[1;34m(estimator, *args, **kwargs)\u001b[0m\n\u001b[0;32m    199\u001b[0m \u001b[1;32mdef\u001b[0m \u001b[0m_passthrough_scorer\u001b[0m\u001b[1;33m(\u001b[0m\u001b[0mestimator\u001b[0m\u001b[1;33m,\u001b[0m \u001b[1;33m*\u001b[0m\u001b[0margs\u001b[0m\u001b[1;33m,\u001b[0m \u001b[1;33m**\u001b[0m\u001b[0mkwargs\u001b[0m\u001b[1;33m)\u001b[0m\u001b[1;33m:\u001b[0m\u001b[1;33m\u001b[0m\u001b[0m\n\u001b[0;32m    200\u001b[0m     \u001b[1;34m\"\"\"Function that wraps estimator.score\"\"\"\u001b[0m\u001b[1;33m\u001b[0m\u001b[0m\n\u001b[1;32m--> 201\u001b[1;33m     \u001b[1;32mreturn\u001b[0m \u001b[0mestimator\u001b[0m\u001b[1;33m.\u001b[0m\u001b[0mscore\u001b[0m\u001b[1;33m(\u001b[0m\u001b[1;33m*\u001b[0m\u001b[0margs\u001b[0m\u001b[1;33m,\u001b[0m \u001b[1;33m**\u001b[0m\u001b[0mkwargs\u001b[0m\u001b[1;33m)\u001b[0m\u001b[1;33m\u001b[0m\u001b[0m\n\u001b[0m\u001b[0;32m    202\u001b[0m \u001b[1;33m\u001b[0m\u001b[0m\n\u001b[0;32m    203\u001b[0m \u001b[1;33m\u001b[0m\u001b[0m\n",
      "\u001b[1;32mD:\\Anaconda2\\lib\\site-packages\\sklearn\\base.pyc\u001b[0m in \u001b[0;36mscore\u001b[1;34m(self, X, y, sample_weight)\u001b[0m\n\u001b[0;32m    293\u001b[0m         \"\"\"\n\u001b[0;32m    294\u001b[0m         \u001b[1;32mfrom\u001b[0m \u001b[1;33m.\u001b[0m\u001b[0mmetrics\u001b[0m \u001b[1;32mimport\u001b[0m \u001b[0maccuracy_score\u001b[0m\u001b[1;33m\u001b[0m\u001b[0m\n\u001b[1;32m--> 295\u001b[1;33m         \u001b[1;32mreturn\u001b[0m \u001b[0maccuracy_score\u001b[0m\u001b[1;33m(\u001b[0m\u001b[0my\u001b[0m\u001b[1;33m,\u001b[0m \u001b[0mself\u001b[0m\u001b[1;33m.\u001b[0m\u001b[0mpredict\u001b[0m\u001b[1;33m(\u001b[0m\u001b[0mX\u001b[0m\u001b[1;33m)\u001b[0m\u001b[1;33m,\u001b[0m \u001b[0msample_weight\u001b[0m\u001b[1;33m=\u001b[0m\u001b[0msample_weight\u001b[0m\u001b[1;33m)\u001b[0m\u001b[1;33m\u001b[0m\u001b[0m\n\u001b[0m\u001b[0;32m    296\u001b[0m \u001b[1;33m\u001b[0m\u001b[0m\n\u001b[0;32m    297\u001b[0m \u001b[1;33m\u001b[0m\u001b[0m\n",
      "\u001b[1;32mD:\\Anaconda2\\lib\\site-packages\\sklearn\\svm\\base.pyc\u001b[0m in \u001b[0;36mpredict\u001b[1;34m(self, X)\u001b[0m\n\u001b[0;32m    498\u001b[0m             \u001b[0mClass\u001b[0m \u001b[0mlabels\u001b[0m \u001b[1;32mfor\u001b[0m \u001b[0msamples\u001b[0m \u001b[1;32min\u001b[0m \u001b[0mX\u001b[0m\u001b[1;33m.\u001b[0m\u001b[1;33m\u001b[0m\u001b[0m\n\u001b[0;32m    499\u001b[0m         \"\"\"\n\u001b[1;32m--> 500\u001b[1;33m         \u001b[0my\u001b[0m \u001b[1;33m=\u001b[0m \u001b[0msuper\u001b[0m\u001b[1;33m(\u001b[0m\u001b[0mBaseSVC\u001b[0m\u001b[1;33m,\u001b[0m \u001b[0mself\u001b[0m\u001b[1;33m)\u001b[0m\u001b[1;33m.\u001b[0m\u001b[0mpredict\u001b[0m\u001b[1;33m(\u001b[0m\u001b[0mX\u001b[0m\u001b[1;33m)\u001b[0m\u001b[1;33m\u001b[0m\u001b[0m\n\u001b[0m\u001b[0;32m    501\u001b[0m         \u001b[1;32mreturn\u001b[0m \u001b[0mself\u001b[0m\u001b[1;33m.\u001b[0m\u001b[0mclasses_\u001b[0m\u001b[1;33m.\u001b[0m\u001b[0mtake\u001b[0m\u001b[1;33m(\u001b[0m\u001b[0mnp\u001b[0m\u001b[1;33m.\u001b[0m\u001b[0masarray\u001b[0m\u001b[1;33m(\u001b[0m\u001b[0my\u001b[0m\u001b[1;33m,\u001b[0m \u001b[0mdtype\u001b[0m\u001b[1;33m=\u001b[0m\u001b[0mnp\u001b[0m\u001b[1;33m.\u001b[0m\u001b[0mintp\u001b[0m\u001b[1;33m)\u001b[0m\u001b[1;33m)\u001b[0m\u001b[1;33m\u001b[0m\u001b[0m\n\u001b[0;32m    502\u001b[0m \u001b[1;33m\u001b[0m\u001b[0m\n",
      "\u001b[1;32mD:\\Anaconda2\\lib\\site-packages\\sklearn\\svm\\base.pyc\u001b[0m in \u001b[0;36mpredict\u001b[1;34m(self, X)\u001b[0m\n\u001b[0;32m    290\u001b[0m         \u001b[0mX\u001b[0m \u001b[1;33m=\u001b[0m \u001b[0mself\u001b[0m\u001b[1;33m.\u001b[0m\u001b[0m_validate_for_predict\u001b[0m\u001b[1;33m(\u001b[0m\u001b[0mX\u001b[0m\u001b[1;33m)\u001b[0m\u001b[1;33m\u001b[0m\u001b[0m\n\u001b[0;32m    291\u001b[0m         \u001b[0mpredict\u001b[0m \u001b[1;33m=\u001b[0m \u001b[0mself\u001b[0m\u001b[1;33m.\u001b[0m\u001b[0m_sparse_predict\u001b[0m \u001b[1;32mif\u001b[0m \u001b[0mself\u001b[0m\u001b[1;33m.\u001b[0m\u001b[0m_sparse\u001b[0m \u001b[1;32melse\u001b[0m \u001b[0mself\u001b[0m\u001b[1;33m.\u001b[0m\u001b[0m_dense_predict\u001b[0m\u001b[1;33m\u001b[0m\u001b[0m\n\u001b[1;32m--> 292\u001b[1;33m         \u001b[1;32mreturn\u001b[0m \u001b[0mpredict\u001b[0m\u001b[1;33m(\u001b[0m\u001b[0mX\u001b[0m\u001b[1;33m)\u001b[0m\u001b[1;33m\u001b[0m\u001b[0m\n\u001b[0m\u001b[0;32m    293\u001b[0m \u001b[1;33m\u001b[0m\u001b[0m\n\u001b[0;32m    294\u001b[0m     \u001b[1;32mdef\u001b[0m \u001b[0m_dense_predict\u001b[0m\u001b[1;33m(\u001b[0m\u001b[0mself\u001b[0m\u001b[1;33m,\u001b[0m \u001b[0mX\u001b[0m\u001b[1;33m)\u001b[0m\u001b[1;33m:\u001b[0m\u001b[1;33m\u001b[0m\u001b[0m\n",
      "\u001b[1;32mD:\\Anaconda2\\lib\\site-packages\\sklearn\\svm\\base.pyc\u001b[0m in \u001b[0;36m_dense_predict\u001b[1;34m(self, X)\u001b[0m\n\u001b[0;32m    313\u001b[0m             \u001b[0mself\u001b[0m\u001b[1;33m.\u001b[0m\u001b[0mprobA_\u001b[0m\u001b[1;33m,\u001b[0m \u001b[0mself\u001b[0m\u001b[1;33m.\u001b[0m\u001b[0mprobB_\u001b[0m\u001b[1;33m,\u001b[0m \u001b[0msvm_type\u001b[0m\u001b[1;33m=\u001b[0m\u001b[0msvm_type\u001b[0m\u001b[1;33m,\u001b[0m \u001b[0mkernel\u001b[0m\u001b[1;33m=\u001b[0m\u001b[0mkernel\u001b[0m\u001b[1;33m,\u001b[0m\u001b[1;33m\u001b[0m\u001b[0m\n\u001b[0;32m    314\u001b[0m             \u001b[0mdegree\u001b[0m\u001b[1;33m=\u001b[0m\u001b[0mself\u001b[0m\u001b[1;33m.\u001b[0m\u001b[0mdegree\u001b[0m\u001b[1;33m,\u001b[0m \u001b[0mcoef0\u001b[0m\u001b[1;33m=\u001b[0m\u001b[0mself\u001b[0m\u001b[1;33m.\u001b[0m\u001b[0mcoef0\u001b[0m\u001b[1;33m,\u001b[0m \u001b[0mgamma\u001b[0m\u001b[1;33m=\u001b[0m\u001b[0mself\u001b[0m\u001b[1;33m.\u001b[0m\u001b[0m_gamma\u001b[0m\u001b[1;33m,\u001b[0m\u001b[1;33m\u001b[0m\u001b[0m\n\u001b[1;32m--> 315\u001b[1;33m             cache_size=self.cache_size)\n\u001b[0m\u001b[0;32m    316\u001b[0m \u001b[1;33m\u001b[0m\u001b[0m\n\u001b[0;32m    317\u001b[0m     \u001b[1;32mdef\u001b[0m \u001b[0m_sparse_predict\u001b[0m\u001b[1;33m(\u001b[0m\u001b[0mself\u001b[0m\u001b[1;33m,\u001b[0m \u001b[0mX\u001b[0m\u001b[1;33m)\u001b[0m\u001b[1;33m:\u001b[0m\u001b[1;33m\u001b[0m\u001b[0m\n",
      "\u001b[1;31mKeyboardInterrupt\u001b[0m: "
     ]
    }
   ],
   "source": [
    "for g in range(0,100):\n",
    "    classifier = svm.SVC(gamma = g / 10000.)\n",
    "    print(cross_val_score(classifier, X, y, cv=StratifiedKFold(y, 5)))\n",
    "    print(np.mean(cross_val_score(classifier, X, y, cv=StratifiedKFold(y ,5))))"
   ]
  },
  {
   "cell_type": "code",
   "execution_count": 44,
   "metadata": {
    "collapsed": false
   },
   "outputs": [
    {
     "data": {
      "text/plain": [
       "SVC(C=1.0, cache_size=200, class_weight=None, coef0=0.0, degree=3,\n",
       "  gamma=0.0013, kernel='rbf', max_iter=-1, probability=False,\n",
       "  random_state=None, shrinking=True, tol=0.001, verbose=False)"
      ]
     },
     "execution_count": 44,
     "metadata": {},
     "output_type": "execute_result"
    }
   ],
   "source": [
    "%matplotlib inline\n",
    "import matplotlib.pyplot as plt\n",
    "from sklearn.linear_model import SGDClassifier\n",
    "from sklearn.cross_validation import cross_val_score\n",
    "from sklearn.cross_validation import StratifiedKFold\n",
    "from sklearn import datasets, svm, metrics\n",
    "\n",
    "target2 = target2.astype(int)\n",
    "#data = digits.images.reshape((n_samples, -1))\n",
    "data = data2\n",
    "#data = data2[:,np.nonzero(rfe.ranking_ < 10)[0]]\n",
    "n_samples = len(target2)\n",
    "\n",
    "\n",
    "#classifier = SGDClassifier(alpha=0.0001, fit_intercept=True, n_iter=200)\n",
    "classifier = svm.SVC(gamma=0.0013)\n",
    "\n",
    "\n",
    "classifier.fit(data[:n_samples / 3], target2[:n_samples / 3])\n",
    "\n",
    "\n"
   ]
  },
  {
   "cell_type": "code",
   "execution_count": 69,
   "metadata": {
    "collapsed": false
   },
   "outputs": [
    {
     "name": "stdout",
     "output_type": "stream",
     "text": [
      "Optimal number of features : 45\n"
     ]
    },
    {
     "data": {
      "image/png": "[encoded data removed]",
      "text/plain": [
       "<matplotlib.figure.Figure at 0x3a3af98>"
      ]
     },
     "metadata": {},
     "output_type": "display_data"
    }
   ],
   "source": [
    "import matplotlib.pyplot as plt\n",
    "from sklearn.svm import SVC\n",
    "from sklearn.cross_validation import StratifiedKFold\n",
    "from sklearn.feature_selection import RFECV\n",
    "from sklearn.datasets import make_classification\n",
    "\n",
    "# Build a classification task using 3 informative features\n",
    "X = data2\n",
    "y = target2\n",
    "\n",
    "# Create the RFE object and compute a cross-validated score.\n",
    "svc = SVC(kernel=\"linear\")\n",
    "# The \"accuracy\" scoring is proportional to the number of correct\n",
    "# classifications\n",
    "rfecv = RFECV(estimator=svc, step=1, cv=StratifiedKFold(y, 2),\n",
    "              scoring='accuracy')\n",
    "rfecv.fit(X, y)\n",
    "\n",
    "print(\"Optimal number of features : %d\" % rfecv.n_features_)\n",
    "\n",
    "# Plot number of features VS. cross-validation scores\n",
    "plt.figure()\n",
    "plt.xlabel(\"Number of features selected\")\n",
    "plt.ylabel(\"Cross validation score (nb of correct classifications)\")\n",
    "plt.plot(range(1, len(rfecv.grid_scores_) + 1), rfecv.grid_scores_)\n",
    "plt.show()\n",
    "\n"
   ]
  },
  {
   "cell_type": "code",
   "execution_count": 88,
   "metadata": {
    "collapsed": false,
    "scrolled": false
   },
   "outputs": [
    {
     "name": "stdout",
     "output_type": "stream",
     "text": [
      "Classification report for classifier RFECV(cv=sklearn.cross_validation.StratifiedKFold(labels=[1 2 ..., 0 8], n_folds=2, shuffle=False, random_state=None),\n",
      "   estimator=SVC(C=1.0, cache_size=200, class_weight=None, coef0=0.0, degree=3, gamma=0.0,\n",
      "  kernel='linear', max_iter=-1, probability=False, random_state=None,\n",
      "  shrinking=True, tol=0.001, verbose=False),\n",
      "   estimator_params=None, scoring='accuracy', step=1, verbose=0):\n",
      "             precision    recall  f1-score   support\n",
      "\n",
      "          0       0.30      0.36      0.33        85\n",
      "          1       0.28      0.98      0.44        57\n",
      "          2       0.38      0.54      0.45        85\n",
      "          3       0.33      0.17      0.22        84\n",
      "          4       0.56      0.27      0.36        83\n",
      "          5       0.21      0.18      0.20        71\n",
      "          6       0.40      0.24      0.30        85\n",
      "          7       0.35      0.47      0.40        74\n",
      "          8       0.60      0.16      0.25        75\n",
      "          9       0.52      0.21      0.30        70\n",
      "\n",
      "avg / total       0.39      0.34      0.32       769\n",
      "\n",
      "\n",
      "Confusion matrix:\n",
      "[[31 12 17  1  1  6 10  4  2  1]\n",
      " [ 0 56  0  0  0  0  0  1  0  0]\n",
      " [ 3 27 46  1  1  1  1  5  0  0]\n",
      " [11 21 23 14  2  2  1  8  2  0]\n",
      " [16 10  4  2 22  6  6 10  2  5]\n",
      " [11 17  8 13  1 13  1  5  2  0]\n",
      " [15 25  6  2  2 13 20  2  0  0]\n",
      " [ 6 20  2  2  2  1  0 35  0  6]\n",
      " [ 9  4 10  6  2 17 11  2 12  2]\n",
      " [ 2  8  5  2  6  3  0 29  0 15]]\n"
     ]
    }
   ],
   "source": [
    "from sklearn import metrics\n",
    "expected = target2[n_samples / 3:]\n",
    "predicted = rfecv.predict(data2[n_samples / 3:])\n",
    "\n",
    "\n",
    "\n",
    "print(\"Classification report for classifier %s:\\n%s\\n\"\n",
    "    % (rfecv, metrics.classification_report(expected, predicted)))\n",
    "print(\"Confusion matrix:\\n%s\"\n",
    "    % metrics.confusion_matrix(expected, predicted))"
   ]
  },
  {
   "cell_type": "code",
   "execution_count": 72,
   "metadata": {
    "collapsed": false
   },
   "outputs": [
    {
     "data": {
      "text/plain": [
       "['./machine3.pkl',\n",
       " './machine3.pkl_01.npy',\n",
       " './machine3.pkl_02.npy',\n",
       " './machine3.pkl_03.npy',\n",
       " './machine3.pkl_04.npy',\n",
       " './machine3.pkl_05.npy',\n",
       " './machine3.pkl_06.npy',\n",
       " './machine3.pkl_07.npy',\n",
       " './machine3.pkl_08.npy',\n",
       " './machine3.pkl_09.npy',\n",
       " './machine3.pkl_10.npy',\n",
       " './machine3.pkl_11.npy',\n",
       " './machine3.pkl_12.npy',\n",
       " './machine3.pkl_13.npy',\n",
       " './machine3.pkl_14.npy',\n",
       " './machine3.pkl_15.npy',\n",
       " './machine3.pkl_16.npy']"
      ]
     },
     "execution_count": 72,
     "metadata": {},
     "output_type": "execute_result"
    }
   ],
   "source": [
    "from sklearn.externals import joblib\n",
    "\n",
    "joblib.dump(rfecv, \"./machine3.pkl\") "
   ]
  },
  {
   "cell_type": "code",
   "execution_count": null,
   "metadata": {
    "collapsed": true
   },
   "outputs": [],
   "source": []
  }
 ],
 "metadata": {
  "kernelspec": {
   "display_name": "Python 2",
   "language": "python",
   "name": "python2"
  },
  "language_info": {
   "codemirror_mode": {
    "name": "ipython",
    "version": 2
   },
   "file_extension": ".py",
   "mimetype": "text/x-python",
   "name": "python",
   "nbconvert_exporter": "python",
   "pygments_lexer": "ipython2",
   "version": "2.7.11"
  }
 },
 "nbformat": 4,
 "nbformat_minor": 0
}
