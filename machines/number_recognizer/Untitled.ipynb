{
 "cells": [
  {
   "cell_type": "code",
   "execution_count": 29,
   "metadata": {
    "collapsed": false
   },
   "outputs": [
    {
     "name": "stdout",
     "output_type": "stream",
     "text": [
      "(1299L, 64L)\n",
      "(1299L,)\n"
     ]
    }
   ],
   "source": [
    "%matplotlib inline\n",
    "import numpy as np\n",
    "\n",
    "data2=np.loadtxt('D:/number_recognizer/test15.txt')\n",
    "target2=np.loadtxt('D:/number_recognizer/target15.txt')\n",
    "\n",
    "print(data2.shape)\n",
    "print(target2.shape)\n",
    "\n",
    "data2[np.nonzero(data2 > 1)]=1\n",
    "\n",
    "target2 = target2.astype(int)\n",
    "data = data2\n",
    "n_samples = len(target2)"
   ]
  },
  {
   "cell_type": "code",
   "execution_count": 30,
   "metadata": {
    "collapsed": false
   },
   "outputs": [
    {
     "name": "stdout",
     "output_type": "stream",
     "text": [
      "Optimal number of features : 42\n"
     ]
    },
    {
     "data": {
      "image/png": "[encoded data removed]",
      "text/plain": [
       "<matplotlib.figure.Figure at 0x1d42e0b8>"
      ]
     },
     "metadata": {},
     "output_type": "display_data"
    }
   ],
   "source": [
    "import matplotlib.pyplot as plt\n",
    "from sklearn.svm import SVC\n",
    "from sklearn.cross_validation import StratifiedKFold\n",
    "from sklearn.feature_selection import RFECV\n",
    "from sklearn.datasets import make_classification\n",
    "\n",
    "\n",
    "# Build a classification task using 3 informative features\n",
    "X = data2\n",
    "y = target2\n",
    "\n",
    "# Create the RFE object and compute a cross-validated score.\n",
    "svc = SVC(kernel=\"linear\")\n",
    "# The \"accuracy\" scoring is proportional to the number of correct\n",
    "# classifications\n",
    "rfecv = RFECV(estimator=svc, step=1, cv=StratifiedKFold(y, 2),\n",
    "              scoring='accuracy')\n",
    "rfecv.fit(X, y)\n",
    "\n",
    "print(\"Optimal number of features : %d\" % rfecv.n_features_)\n",
    "\n",
    "# Plot number of features VS. cross-validation scores\n",
    "plt.figure()\n",
    "plt.xlabel(\"Number of features selected\")\n",
    "plt.ylabel(\"Cross validation score (nb of correct classifications)\")\n",
    "plt.plot(range(1, len(rfecv.grid_scores_) + 1), rfecv.grid_scores_)\n",
    "plt.show()\n",
    "\n"
   ]
  },
  {
   "cell_type": "code",
   "execution_count": 28,
   "metadata": {
    "collapsed": false
   },
   "outputs": [
    {
     "name": "stdout",
     "output_type": "stream",
     "text": [
      "Classification report for classifier RFECV(cv=sklearn.cross_validation.StratifiedKFold(labels=[1 2 ..., 0 8], n_folds=2, shuffle=False, random_state=None),\n",
      "   estimator=SVC(C=1.0, cache_size=200, class_weight=None, coef0=0.0, degree=3, gamma=0.0,\n",
      "  kernel='linear', max_iter=-1, probability=False, random_state=None,\n",
      "  shrinking=True, tol=0.001, verbose=False),\n",
      "   estimator_params=None, scoring='accuracy', step=1, verbose=0):\n",
      "             precision    recall  f1-score   support\n",
      "\n",
      "          0       0.82      0.77      0.79       100\n",
      "          1       0.81      0.91      0.86        81\n",
      "          2       0.76      0.90      0.82        88\n",
      "          3       0.81      0.77      0.79        95\n",
      "          4       0.83      0.84      0.83        75\n",
      "          5       0.84      0.74      0.79        82\n",
      "          6       0.70      0.74      0.72        77\n",
      "          7       0.75      0.75      0.75        87\n",
      "          8       0.92      0.79      0.85        70\n",
      "          9       0.84      0.83      0.83        87\n",
      "\n",
      "avg / total       0.81      0.80      0.80       842\n",
      "\n",
      "\n",
      "Confusion matrix:\n",
      "[[77  1  4  3  2  3  6  1  2  1]\n",
      " [ 0 74  2  0  0  2  0  3  0  0]\n",
      " [ 0  1 79  2  1  0  2  1  1  1]\n",
      " [ 3  2  9 73  1  1  2  2  1  1]\n",
      " [ 3  0  1  1 63  0  3  3  0  1]\n",
      " [ 3  0  1  5  1 61  9  1  1  0]\n",
      " [ 2  3  5  2  7  1 57  0  0  0]\n",
      " [ 1 10  1  1  0  1  0 65  0  8]\n",
      " [ 4  0  2  2  0  2  2  1 55  2]\n",
      " [ 1  0  0  1  1  2  0 10  0 72]]\n"
     ]
    }
   ],
   "source": [
    "from sklearn import metrics\n",
    "expected = target2[n_samples / 3:]\n",
    "predicted = rfecv.predict(data2[n_samples / 3:])\n",
    "\n",
    "\n",
    "\n",
    "print(\"Classification report for classifier %s:\\n%s\\n\"\n",
    "    % (rfecv, metrics.classification_report(expected, predicted)))\n",
    "print(\"Confusion matrix:\\n%s\"\n",
    "    % metrics.confusion_matrix(expected, predicted))\n",
    "\n"
   ]
  },
  {
   "cell_type": "code",
   "execution_count": null,
   "metadata": {
    "collapsed": true
   },
   "outputs": [],
   "source": []
  }
 ],
 "metadata": {
  "kernelspec": {
   "display_name": "Python 2",
   "language": "python",
   "name": "python2"
  },
  "language_info": {
   "codemirror_mode": {
    "name": "ipython",
    "version": 2
   },
   "file_extension": ".py",
   "mimetype": "text/x-python",
   "name": "python",
   "nbconvert_exporter": "python",
   "pygments_lexer": "ipython2",
   "version": "2.7.11"
  }
 },
 "nbformat": 4,
 "nbformat_minor": 0
}
