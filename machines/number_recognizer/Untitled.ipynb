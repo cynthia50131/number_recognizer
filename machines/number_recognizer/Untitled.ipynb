{
 "cells": [
  {
   "cell_type": "code",
   "execution_count": 31,
   "metadata": {
    "collapsed": false
   },
   "outputs": [
    {
     "name": "stdout",
     "output_type": "stream",
     "text": [
      "(889L, 64L)\n",
      "(889L,)\n"
     ]
    }
   ],
   "source": [
    "%matplotlib inline\n",
    "import numpy as np\n",
    "\n",
    "data2=np.loadtxt('D:/number_recognizer/test.txt')\n",
    "target2=np.loadtxt('D:/number_recognizer/target.txt')\n",
    "\n",
    "print(data2.shape)\n",
    "print(target2.shape)"
   ]
  },
  {
   "cell_type": "code",
   "execution_count": 32,
   "metadata": {
    "collapsed": false
   },
   "outputs": [
    {
     "data": {
      "text/plain": [
       "SVC(C=1.0, cache_size=200, class_weight=None, coef0=0.0, degree=3,\n",
       "  gamma=0.0013, kernel='rbf', max_iter=-1, probability=False,\n",
       "  random_state=None, shrinking=True, tol=0.001, verbose=False)"
      ]
     },
     "execution_count": 32,
     "metadata": {},
     "output_type": "execute_result"
    }
   ],
   "source": [
    "%matplotlib inline\n",
    "import matplotlib.pyplot as plt\n",
    "from sklearn.linear_model import SGDClassifier\n",
    "\n",
    "from sklearn import datasets, svm, metrics\n",
    "\n",
    "target2 = target2.astype(int)\n",
    "#data = digits.images.reshape((n_samples, -1))\n",
    "data = data2\n",
    "#data = data2[:,np.nonzero(rfe.ranking_ < 10)[0]]\n",
    "n_samples = len(target2)\n",
    "\n",
    "\n",
    "#classifier = SGDClassifier(alpha=0.0001, fit_intercept=True, n_iter=200)\n",
    "classifier = svm.SVC(gamma=0.0013)\n",
    "\n",
    "\n",
    "#classifier.fit(data[:n_samples / 2], digits.target[:n_samples / 2])\n",
    "classifier.fit(data[:n_samples / 2], target2[:n_samples / 2])\n",
    "\n"
   ]
  },
  {
   "cell_type": "code",
   "execution_count": 33,
   "metadata": {
    "collapsed": false
   },
   "outputs": [
    {
     "name": "stdout",
     "output_type": "stream",
     "text": [
      "Optimal number of features : 30\n"
     ]
    },
    {
     "data": {
      "image/png": "[encoded data removed]",
      "text/plain": [
       "<matplotlib.figure.Figure at 0x1f24e7f0>"
      ]
     },
     "metadata": {},
     "output_type": "display_data"
    }
   ],
   "source": [
    "import matplotlib.pyplot as plt\n",
    "from sklearn.svm import SVC\n",
    "from sklearn.cross_validation import StratifiedKFold\n",
    "from sklearn.feature_selection import RFECV\n",
    "from sklearn.datasets import make_classification\n",
    "\n",
    "# Build a classification task using 3 informative features\n",
    "X = data2\n",
    "y = target2\n",
    "\n",
    "# Create the RFE object and compute a cross-validated score.\n",
    "svc = SVC(kernel=\"linear\")\n",
    "# The \"accuracy\" scoring is proportional to the number of correct\n",
    "# classifications\n",
    "rfecv = RFECV(estimator=svc, step=1, cv=StratifiedKFold(y, 2),\n",
    "              scoring='accuracy')\n",
    "rfecv.fit(X, y)\n",
    "\n",
    "print(\"Optimal number of features : %d\" % rfecv.n_features_)\n",
    "\n",
    "# Plot number of features VS. cross-validation scores\n",
    "plt.figure()\n",
    "plt.xlabel(\"Number of features selected\")\n",
    "plt.ylabel(\"Cross validation score (nb of correct classifications)\")\n",
    "plt.plot(range(1, len(rfecv.grid_scores_) + 1), rfecv.grid_scores_)\n",
    "plt.show()\n",
    "\n"
   ]
  },
  {
   "cell_type": "code",
   "execution_count": 28,
   "metadata": {
    "collapsed": false
   },
   "outputs": [
    {
     "name": "stdout",
     "output_type": "stream",
     "text": [
      "Classification report for classifier RFECV(cv=sklearn.cross_validation.StratifiedKFold(labels=[ 3.  5. ...,  9.  0.], n_folds=2, shuffle=False, random_state=None),\n",
      "   estimator=SVC(C=1.0, cache_size=200, class_weight=None, coef0=0.0, degree=3, gamma=0.0,\n",
      "  kernel='linear', max_iter=-1, probability=False, random_state=None,\n",
      "  shrinking=True, tol=0.001, verbose=False),\n",
      "   estimator_params=None, scoring='accuracy', step=1, verbose=0):\n",
      "             precision    recall  f1-score   support\n",
      "\n",
      "          0       0.70      0.71      0.71        49\n",
      "          1       0.57      0.89      0.69        28\n",
      "          2       0.71      0.67      0.69        48\n",
      "          3       0.52      0.68      0.59        50\n",
      "          4       0.76      0.72      0.74        43\n",
      "          5       0.55      0.44      0.49        41\n",
      "          6       0.71      0.56      0.63        39\n",
      "          7       0.84      0.72      0.77        43\n",
      "          8       0.81      0.70      0.75        50\n",
      "          9       0.71      0.73      0.72        41\n",
      "\n",
      "avg / total       0.69      0.68      0.68       432\n",
      "\n",
      "\n",
      "Confusion matrix:\n",
      "[[35  0  1  5  0  3  2  1  1  1]\n",
      " [ 0 25  1  1  0  1  0  0  0  0]\n",
      " [ 3  5 32  5  0  1  0  1  0  1]\n",
      " [ 2  1  6 34  3  1  1  0  0  2]\n",
      " [ 4  0  0  2 31  2  2  0  0  2]\n",
      " [ 2  1  3  9  1 18  2  1  3  1]\n",
      " [ 0  8  1  2  1  2 22  0  3  0]\n",
      " [ 2  3  0  1  1  0  0 31  1  4]\n",
      " [ 1  0  1  5  1  3  2  1 35  1]\n",
      " [ 1  1  0  2  3  2  0  2  0 30]]\n"
     ]
    }
   ],
   "source": [
    "expected = target2[n_samples / 2:]\n",
    "predicted = rfecv.predict(data2[n_samples / 2:])\n",
    "\n",
    "\n",
    "print(\"Classification report for classifier %s:\\n%s\\n\"\n",
    "    % (rfecv, metrics.classification_report(expected, predicted)))\n",
    "print(\"Confusion matrix:\\n%s\"\n",
    "    % metrics.confusion_matrix(expected, predicted))"
   ]
  },
  {
   "cell_type": "code",
   "execution_count": 29,
   "metadata": {
    "collapsed": false
   },
   "outputs": [
    {
     "data": {
      "text/plain": [
       "['./machine3.pkl',\n",
       " './machine3.pkl_01.npy',\n",
       " './machine3.pkl_02.npy',\n",
       " './machine3.pkl_03.npy',\n",
       " './machine3.pkl_04.npy',\n",
       " './machine3.pkl_05.npy',\n",
       " './machine3.pkl_06.npy',\n",
       " './machine3.pkl_07.npy',\n",
       " './machine3.pkl_08.npy',\n",
       " './machine3.pkl_09.npy',\n",
       " './machine3.pkl_10.npy',\n",
       " './machine3.pkl_11.npy']"
      ]
     },
     "execution_count": 29,
     "metadata": {},
     "output_type": "execute_result"
    }
   ],
   "source": [
    "from sklearn.externals import joblib\n",
    "\n",
    "joblib.dump(classifier, \"./machine3.pkl\") "
   ]
  },
  {
   "cell_type": "code",
   "execution_count": null,
   "metadata": {
    "collapsed": true
   },
   "outputs": [],
   "source": []
  }
 ],
 "metadata": {
  "kernelspec": {
   "display_name": "Python 2",
   "language": "python",
   "name": "python2"
  },
  "language_info": {
   "codemirror_mode": {
    "name": "ipython",
    "version": 2
   },
   "file_extension": ".py",
   "mimetype": "text/x-python",
   "name": "python",
   "nbconvert_exporter": "python",
   "pygments_lexer": "ipython2",
   "version": "2.7.11"
  }
 },
 "nbformat": 4,
 "nbformat_minor": 0
}
